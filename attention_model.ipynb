{
  "nbformat": 4,
  "nbformat_minor": 0,
  "metadata": {
    "colab": {
      "name": "attention_model.ipynb",
      "version": "0.3.2",
      "provenance": [],
      "collapsed_sections": [],
      "toc_visible": true
    },
    "kernelspec": {
      "name": "python3",
      "display_name": "Python 3"
    },
    "accelerator": "GPU"
  },
  "cells": [
    {
      "metadata": {
        "id": "OAS0FG4vseu3",
        "colab_type": "text"
      },
      "cell_type": "markdown",
      "source": [
        "title: lstmmodel.ipynb, id: 1TnrStjnks7OTUMnMNDnr_pYRfj-58UwP\n",
        "\n",
        "title: glove.6B.300d.txt, id: 1rWMInnJOHWksW_iTTNaFMFH1E2rIv3cR\n",
        "\n",
        "title: repubTweets.npy, id: 13qF8Ba5s4RSa4XU-Ekm3Kk6XDIezZTX_\n",
        "\n",
        "title: demTweets.npy, id: 1gg7t6X0dDhl916B6zYVh01lDKNKNYulR"
      ]
    },
    {
      "metadata": {
        "id": "36jq4oodqP_j",
        "colab_type": "code",
        "colab": {
          "base_uri": "https://localhost:8080/",
          "height": 51
        },
        "outputId": "4fd3aa05-162d-46a2-9abb-da14c4610795"
      },
      "cell_type": "code",
      "source": [
        "!ls"
      ],
      "execution_count": 2,
      "outputs": [
        {
          "output_type": "stream",
          "text": [
            "datalab        glove.6B.300d.txt  model\r\n",
            "demtweets.npy  mislabeled.txt\t  repubtweets.npy\r\n"
          ],
          "name": "stdout"
        }
      ]
    },
    {
      "metadata": {
        "id": "jQqP1nHpiBvq",
        "colab_type": "code",
        "colab": {}
      },
      "cell_type": "code",
      "source": [
        "!pip install -U -q PyDrive\n",
        "from pydrive.auth import GoogleAuth\n",
        "from pydrive.drive import GoogleDrive\n",
        "from google.colab import auth\n",
        "from oauth2client.client import GoogleCredentials\n",
        "\n",
        "auth.authenticate_user()\n",
        "gauth = GoogleAuth()\n",
        "gauth.credentials = GoogleCredentials.get_application_default()\n",
        "drive = GoogleDrive(gauth)\n",
        "file_id = '13qF8Ba5s4RSa4XU-Ekm3Kk6XDIezZTX_'\n",
        "downloaded = drive.CreateFile({'id': file_id})\n",
        "file = downloaded.GetContentFile('repubtweets.npy', '.npy')\n",
        "file_id = '1gg7t6X0dDhl916B6zYVh01lDKNKNYulR'\n",
        "downloaded = drive.CreateFile({'id': file_id})\n",
        "file = downloaded.GetContentFile('demtweets.npy', '.npy')\n",
        "file_id = '1rWMInnJOHWksW_iTTNaFMFH1E2rIv3cR'\n",
        "downloaded = drive.CreateFile({'id': file_id})\n",
        "file = downloaded.GetContentFile('glove.6B.300d.txt', '.txt')"
      ],
      "execution_count": 0,
      "outputs": []
    },
    {
      "metadata": {
        "id": "zyEsoZkLUGA0",
        "colab_type": "code",
        "colab": {}
      },
      "cell_type": "code",
      "source": [
        "import numpy as np\n",
        "from tensorflow import keras as k\n",
        "from tensorflow.python.keras.layers import Bidirectional, LSTM, Dense, Input, TimeDistributed, \\\n",
        "  Flatten, Activation, RepeatVector, multiply, Permute, Lambda, Dropout\n",
        "\n",
        "MAX_NB_WORDS = 20000 # Max number of words for the tokenizer\n",
        "EMBEDDING_DIM = 300 # Dimensions of the word vectors\n",
        "MAX_SEQ_LENGTH  = 280 # Max length of the text sequences (for padding purposes)\n",
        "\n",
        "\n",
        "\n",
        "def load_embeddings():\n",
        "  \"\"\"\n",
        "  Loads the word embedding from file\n",
        "  :return: returns a dictionary of the word vectors\n",
        "  \"\"\"\n",
        "  f = open('glove.6B.300d.txt')\n",
        "  embed_index = {}\n",
        "\n",
        "  for line in f:\n",
        "    vals = line.split()\n",
        "    word = vals[0]\n",
        "    vector = np.asarray(vals[1:], dtype='float32')\n",
        "    embed_index[word] = vector\n",
        "\n",
        "  f.close()\n",
        "  return embed_index\n",
        "\n",
        "def load_data():\n",
        "  \"\"\"\n",
        "  loads the tweets stored in the files demTweets and repubTweets and creates labels\n",
        "  Dems are 0 and Repubs are 1\n",
        "  :return: returns data and labels for the data\n",
        "  \"\"\"\n",
        "  demTweets = np.load('demtweets.npy')\n",
        "  repubTweets = np.load('repubtweets.npy')\n",
        "\n",
        "  tweets = [] # list the text of the tweets\n",
        "  labels = [] # list of the labels (0 or 1)\n",
        "  maxlen = 0\n",
        "  for text in demTweets:\n",
        "    tweets.append(text)\n",
        "    labels.append(0)\n",
        "    if len(text) > maxlen:\n",
        "      maxlen = len(text)\n",
        "  for text in repubTweets:\n",
        "    tweets.append(text)\n",
        "    labels.append(1)\n",
        "    if len(text) > maxlen:\n",
        "      maxlen = len(text)\n",
        "\n",
        "  print('Tweets found: %s' % len(tweets))\n",
        "  print('Longest tweet: %s' % maxlen)\n",
        "  return tweets, labels\n",
        "\n",
        "def embed_and_token(tweets, labels):\n",
        "  \"\"\"\n",
        "  creates the embedding layer, tokenizes the corpus.\n",
        "  :param tweets:corpus of the tweets\n",
        "  :param labels:labels for the tweets\n",
        "  :return: formatted data, labels, and the embedding layer\n",
        "  \"\"\"\n",
        "  tokenizer = k.preprocessing.text.Tokenizer(num_words=MAX_NB_WORDS)\n",
        "  tokenizer.fit_on_texts(tweets)\n",
        "  data = tokenizer.texts_to_sequences(tweets)\n",
        "  word_index = tokenizer.word_index\n",
        "\n",
        "  data = k.preprocessing.sequence.pad_sequences(data)\n",
        "  labels = np.asarray(labels)\n",
        "  # labels = k.utils.to_categorical(np.asarray(labels))\n",
        "\n",
        "  embedding_index = load_embeddings()\n",
        "\n",
        "  embedding_matrix = np.zeros((len(word_index) + 1, EMBEDDING_DIM))\n",
        "  for word, i in word_index.items():\n",
        "    embedding_vec = embedding_index.get(word)\n",
        "    if embedding_vec is not None:\n",
        "      embedding_matrix[i] = embedding_vec\n",
        "  embedding_layer = k.layers.Embedding(len(word_index) + 1,\n",
        "                                       EMBEDDING_DIM,\n",
        "                                       weights=[embedding_matrix],\n",
        "                                       input_length=data.shape[1],\n",
        "                                       trainable=False)\n",
        "  return data, labels, embedding_layer"
      ],
      "execution_count": 0,
      "outputs": []
    },
    {
      "metadata": {
        "id": "tkxHihOpL5-T",
        "colab_type": "code",
        "colab": {
          "base_uri": "https://localhost:8080/",
          "height": 85
        },
        "outputId": "c5e2e879-a0f4-41be-b3ad-18e1c9c88508"
      },
      "cell_type": "code",
      "source": [
        "tweets, labels = load_data()\n",
        "data, labels, embedding_layer = embed_and_token(tweets, labels)\n",
        "print(data.shape)\n",
        "print(labels.shape)\n",
        "\n",
        "sequence_input = Input(shape=(data.shape[1],), dtype='int32') # (Batch size,\n",
        "embedded_sequences = embedding_layer(sequence_input)"
      ],
      "execution_count": 3,
      "outputs": [
        {
          "output_type": "stream",
          "text": [
            "Tweets found: 299254\n",
            "Longest tweet: 151\n",
            "(299254, 34)\n",
            "(299254,)\n"
          ],
          "name": "stdout"
        }
      ]
    },
    {
      "metadata": {
        "id": "g3LyoOne7ICS",
        "colab_type": "code",
        "colab": {}
      },
      "cell_type": "code",
      "source": [
        "shuffled_data = []\n",
        "shuffled_labels = []\n",
        "indices = np.arange(data.shape[0])\n",
        "np.random.shuffle(indices)\n",
        "data = data[indices]\n",
        "labels = labels[indices]\n",
        "num_validation_samples = int(0.2 * data.shape[0])\n",
        "\n",
        "x_train = data[:-num_validation_samples]\n",
        "y_train = labels[:-num_validation_samples]\n",
        "x_val = data[-num_validation_samples:]\n",
        "y_val = labels[-num_validation_samples:]"
      ],
      "execution_count": 0,
      "outputs": []
    },
    {
      "metadata": {
        "id": "tISMavr7UPQd",
        "colab_type": "code",
        "colab": {
          "base_uri": "https://localhost:8080/",
          "height": 1380
        },
        "outputId": "863b5fd3-c956-48c2-ecf7-346b635dd50d"
      },
      "cell_type": "code",
      "source": [
        "UNITS = 256 # number of hidden units in the lstm\n",
        "REG = 0.25\n",
        "ACT_REG = 0.09\n",
        "DROP = 0.1\n",
        "\n",
        "\n",
        "x = Bidirectional(LSTM(UNITS, return_sequences=True, dropout=DROP, activity_regularizer=k.regularizers.l2(ACT_REG)), merge_mode='concat')(embedded_sequences) # (batch_size, timesteps, units)\n",
        "attention = TimeDistributed(Dense(UNITS, activation='relu', kernel_regularizer=k.regularizers.l2(REG)))(x)\n",
        "attention = TimeDistributed(Dense(1, name='timeDense'))(attention) # (batch_size, timesteps, 1)\n",
        "attention = Flatten()(attention) # (batch size, timesteps)\n",
        "attention = Activation('softmax')(attention) # (batch, timesteps)\n",
        "attention = RepeatVector(UNITS*2)(attention) # (batch, units, timesteps)\n",
        "attention = Permute([2,1])(attention) #(batch, timesteps, units)\n",
        "rejoined = multiply([x, attention])\n",
        "\n",
        "# x = LSTM(UNITS, return_sequences=True, dropout=DROP, kernel_regularizer=k.regularizers.l2(REG))(rejoined) # (batch_size, timesteps, units)\n",
        "# attention = TimeDistributed(Dense(UNITS, activation='relu', activity_regularizer=k.regularizers.l2(REG)))(x)\n",
        "# attention = TimeDistributed(Dense(1, activation='tanh', name='timeDense'))(attention) # (batch_size, timesteps, 1)\n",
        "# attention = Flatten()(attention) # (batch size, timesteps)\n",
        "# attention = Activation('softmax')(attention) # (batch, timesteps)\n",
        "# attention = RepeatVector(UNITS)(attention) # (batch, units, timesteps)\n",
        "# attention = Permute([2,1])(attention) #(batch, timesteps, units)\n",
        "# rejoined = multiply([x, attention])\n",
        "\n",
        "timeflip = TimeDistributed(Dense(UNITS, activation='relu', kernel_regularizer=k.regularizers.l2(REG)))(rejoined)\n",
        "# timeflip = Permute([2,1])(timeflip)\n",
        "timeflip = TimeDistributed(Dense(UNITS, activation='relu', kernel_regularizer=k.regularizers.l2(REG)))(timeflip)\n",
        "# timeflip = Permute([2,1])(timeflip)\n",
        "\n",
        "interm = Lambda(lambda xin: k.backend.sum(xin, axis=-2))(timeflip)\n",
        "# interm = Dense(UNITS, activation='relu', kernel_regularizer=k.regularizers.l2(REG), bias_regularizer=k.regularizers.l2(REG))(interm)\n",
        "\n",
        "\n",
        "\n",
        "# interm = LSTM(UNITS, dropout=DROP, kernel_regularizer=k.regularizers.l2(REG))(interm)\n",
        "# interm = Flatten()(interm)\n",
        "\n",
        "out = Dense(1, activation='sigmoid', name='finaldense')(interm)\n",
        "\n",
        "opt = k.optimizers.Adam(lr=0.001)\n",
        "model = k.models.Model(sequence_input, out)\n",
        "model.compile(loss='binary_crossentropy',\n",
        "              optimizer=opt,\n",
        "              metrics=['accuracy'])\n",
        "print(model.summary())\n",
        "\n",
        "model.fit(x_train, y_train, validation_data=(x_val, y_val), epochs=20, batch_size=512)"
      ],
      "execution_count": 6,
      "outputs": [
        {
          "output_type": "stream",
          "text": [
            "__________________________________________________________________________________________________\n",
            "Layer (type)                    Output Shape         Param #     Connected to                     \n",
            "==================================================================================================\n",
            "input_1 (InputLayer)            (None, 34)           0                                            \n",
            "__________________________________________________________________________________________________\n",
            "embedding_1 (Embedding)         (None, 34, 300)      46398300    input_1[0][0]                    \n",
            "__________________________________________________________________________________________________\n",
            "bidirectional_2 (Bidirectional) (None, 34, 512)      1140736     embedding_1[0][0]                \n",
            "__________________________________________________________________________________________________\n",
            "time_distributed_5 (TimeDistrib (None, 34, 256)      131328      bidirectional_2[0][0]            \n",
            "__________________________________________________________________________________________________\n",
            "time_distributed_6 (TimeDistrib (None, 34, 1)        257         time_distributed_5[0][0]         \n",
            "__________________________________________________________________________________________________\n",
            "flatten_2 (Flatten)             (None, 34)           0           time_distributed_6[0][0]         \n",
            "__________________________________________________________________________________________________\n",
            "activation_2 (Activation)       (None, 34)           0           flatten_2[0][0]                  \n",
            "__________________________________________________________________________________________________\n",
            "repeat_vector_2 (RepeatVector)  (None, 512, 34)      0           activation_2[0][0]               \n",
            "__________________________________________________________________________________________________\n",
            "permute_2 (Permute)             (None, 34, 512)      0           repeat_vector_2[0][0]            \n",
            "__________________________________________________________________________________________________\n",
            "multiply_2 (Multiply)           (None, 34, 512)      0           bidirectional_2[0][0]            \n",
            "                                                                 permute_2[0][0]                  \n",
            "__________________________________________________________________________________________________\n",
            "time_distributed_7 (TimeDistrib (None, 34, 256)      131328      multiply_2[0][0]                 \n",
            "__________________________________________________________________________________________________\n",
            "time_distributed_8 (TimeDistrib (None, 34, 256)      65792       time_distributed_7[0][0]         \n",
            "__________________________________________________________________________________________________\n",
            "lambda_2 (Lambda)               (None, 256)          0           time_distributed_8[0][0]         \n",
            "__________________________________________________________________________________________________\n",
            "finaldense (Dense)              (None, 1)            257         lambda_2[0][0]                   \n",
            "==================================================================================================\n",
            "Total params: 47,867,998\n",
            "Trainable params: 1,469,698\n",
            "Non-trainable params: 46,398,300\n",
            "__________________________________________________________________________________________________\n",
            "None\n",
            "Train on 239404 samples, validate on 59850 samples\n",
            "Epoch 1/20\n",
            " 13312/239404 [>.............................] - ETA: 2:19 - loss: 160.6647 - acc: 0.5895"
          ],
          "name": "stdout"
        },
        {
          "output_type": "stream",
          "text": [
            "239404/239404 [==============================] - 131s 547us/step - loss: 14.2403 - acc: 0.6683 - val_loss: 0.5979 - val_acc: 0.7146\n",
            "Epoch 2/20\n",
            "135680/239404 [================>.............] - ETA: 51s - loss: 0.5825 - acc: 0.7244"
          ],
          "name": "stdout"
        },
        {
          "output_type": "stream",
          "text": [
            "239404/239404 [==============================] - 129s 539us/step - loss: 0.5710 - acc: 0.7308 - val_loss: 0.5357 - val_acc: 0.7528\n",
            "Epoch 3/20\n",
            "183808/239404 [======================>.......] - ETA: 27s - loss: 0.5296 - acc: 0.7556"
          ],
          "name": "stdout"
        },
        {
          "output_type": "stream",
          "text": [
            "239404/239404 [==============================] - 129s 539us/step - loss: 0.5256 - acc: 0.7583 - val_loss: 0.5089 - val_acc: 0.7710\n",
            "Epoch 4/20\n",
            "202240/239404 [========================>.....] - ETA: 18s - loss: 0.4942 - acc: 0.7752"
          ],
          "name": "stdout"
        },
        {
          "output_type": "stream",
          "text": [
            "239404/239404 [==============================] - 129s 538us/step - loss: 0.4928 - acc: 0.7761 - val_loss: 0.4924 - val_acc: 0.7786\n",
            "Epoch 5/20\n",
            "209408/239404 [=========================>....] - ETA: 14s - loss: 0.4736 - acc: 0.7920"
          ],
          "name": "stdout"
        },
        {
          "output_type": "stream",
          "text": [
            "239404/239404 [==============================] - 129s 538us/step - loss: 0.4718 - acc: 0.7924 - val_loss: 0.4740 - val_acc: 0.7892\n",
            "Epoch 6/20\n",
            "211968/239404 [=========================>....] - ETA: 13s - loss: 0.4523 - acc: 0.8023"
          ],
          "name": "stdout"
        },
        {
          "output_type": "stream",
          "text": [
            "239404/239404 [==============================] - 129s 539us/step - loss: 0.4516 - acc: 0.8018 - val_loss: 0.4799 - val_acc: 0.7785\n",
            "Epoch 7/20\n",
            "212992/239404 [=========================>....] - ETA: 13s - loss: 0.4308 - acc: 0.8150"
          ],
          "name": "stdout"
        },
        {
          "output_type": "stream",
          "text": [
            "239404/239404 [==============================] - 129s 539us/step - loss: 0.4300 - acc: 0.8153 - val_loss: 0.4703 - val_acc: 0.7947\n",
            "Epoch 8/20\n",
            "212992/239404 [=========================>....] - ETA: 13s - loss: 0.4072 - acc: 0.8256"
          ],
          "name": "stdout"
        },
        {
          "output_type": "stream",
          "text": [
            "239404/239404 [==============================] - 129s 538us/step - loss: 0.4067 - acc: 0.8258 - val_loss: 0.4729 - val_acc: 0.7945\n",
            "Epoch 9/20\n",
            "212992/239404 [=========================>....] - ETA: 13s - loss: 0.3881 - acc: 0.8374"
          ],
          "name": "stdout"
        },
        {
          "output_type": "stream",
          "text": [
            "239404/239404 [==============================] - 129s 537us/step - loss: 0.3879 - acc: 0.8375 - val_loss: 0.5217 - val_acc: 0.7712\n",
            "Epoch 10/20\n",
            "212480/239404 [=========================>....] - ETA: 13s - loss: 0.3671 - acc: 0.8501"
          ],
          "name": "stdout"
        },
        {
          "output_type": "stream",
          "text": [
            "239404/239404 [==============================] - 128s 536us/step - loss: 0.3679 - acc: 0.8492 - val_loss: 0.4521 - val_acc: 0.8027\n",
            "Epoch 11/20\n",
            "211968/239404 [=========================>....] - ETA: 13s - loss: 0.3521 - acc: 0.8603"
          ],
          "name": "stdout"
        },
        {
          "output_type": "stream",
          "text": [
            "239404/239404 [==============================] - 129s 538us/step - loss: 0.3526 - acc: 0.8593 - val_loss: 0.4777 - val_acc: 0.7884\n",
            "Epoch 12/20\n",
            "211968/239404 [=========================>....] - ETA: 13s - loss: 0.3275 - acc: 0.8700"
          ],
          "name": "stdout"
        },
        {
          "output_type": "stream",
          "text": [
            "239404/239404 [==============================] - 129s 539us/step - loss: 0.3382 - acc: 0.8690 - val_loss: 0.5271 - val_acc: 0.8006\n",
            "Epoch 13/20\n",
            "211968/239404 [=========================>....] - ETA: 13s - loss: 0.3164 - acc: 0.8775"
          ],
          "name": "stdout"
        },
        {
          "output_type": "stream",
          "text": [
            "239404/239404 [==============================] - 129s 539us/step - loss: 0.3173 - acc: 0.8775 - val_loss: 0.4772 - val_acc: 0.8008\n",
            "Epoch 14/20\n",
            "211968/239404 [=========================>....] - ETA: 13s - loss: 0.3073 - acc: 0.8869"
          ],
          "name": "stdout"
        },
        {
          "output_type": "stream",
          "text": [
            "239404/239404 [==============================] - 129s 538us/step - loss: 0.3066 - acc: 0.8865 - val_loss: 0.4988 - val_acc: 0.8013\n",
            "Epoch 15/20\n",
            "211968/239404 [=========================>....] - ETA: 13s - loss: 0.2784 - acc: 0.8950"
          ],
          "name": "stdout"
        },
        {
          "output_type": "stream",
          "text": [
            "239404/239404 [==============================] - 129s 538us/step - loss: 0.2804 - acc: 0.8940 - val_loss: 0.5031 - val_acc: 0.8000\n",
            "Epoch 16/20\n",
            "211968/239404 [=========================>....] - ETA: 13s - loss: 0.2623 - acc: 0.9032"
          ],
          "name": "stdout"
        },
        {
          "output_type": "stream",
          "text": [
            "239404/239404 [==============================] - 130s 542us/step - loss: 0.2636 - acc: 0.9027 - val_loss: 0.5031 - val_acc: 0.8024\n",
            "Epoch 17/20\n",
            "211968/239404 [=========================>....] - ETA: 13s - loss: 0.2509 - acc: 0.9095"
          ],
          "name": "stdout"
        },
        {
          "output_type": "stream",
          "text": [
            "239404/239404 [==============================] - 129s 537us/step - loss: 0.2511 - acc: 0.9094 - val_loss: 0.5710 - val_acc: 0.7974\n",
            "Epoch 18/20\n",
            "211968/239404 [=========================>....] - ETA: 13s - loss: 0.2398 - acc: 0.9150"
          ],
          "name": "stdout"
        },
        {
          "output_type": "stream",
          "text": [
            "239404/239404 [==============================] - 129s 539us/step - loss: 0.2398 - acc: 0.9146 - val_loss: 0.5668 - val_acc: 0.7998\n",
            "Epoch 19/20\n",
            "211968/239404 [=========================>....] - ETA: 13s - loss: 0.2266 - acc: 0.9215"
          ],
          "name": "stdout"
        },
        {
          "output_type": "stream",
          "text": [
            "239404/239404 [==============================] - 129s 539us/step - loss: 0.2286 - acc: 0.9205 - val_loss: 0.5926 - val_acc: 0.7977\n",
            "Epoch 20/20\n",
            "211968/239404 [=========================>....] - ETA: 13s - loss: 0.2360 - acc: 0.9249"
          ],
          "name": "stdout"
        },
        {
          "output_type": "stream",
          "text": [
            "239404/239404 [==============================] - 129s 540us/step - loss: 0.2343 - acc: 0.9246 - val_loss: 0.5900 - val_acc: 0.7982\n"
          ],
          "name": "stdout"
        },
        {
          "output_type": "execute_result",
          "data": {
            "text/plain": [
              "<tensorflow.python.keras._impl.keras.callbacks.History at 0x7f4d01887278>"
            ]
          },
          "metadata": {
            "tags": []
          },
          "execution_count": 6
        }
      ]
    },
    {
      "metadata": {
        "id": "iPsdUSCSgcjN",
        "colab_type": "code",
        "colab": {}
      },
      "cell_type": "code",
      "source": [
        "predict = model.predict(x_val)"
      ],
      "execution_count": 0,
      "outputs": []
    },
    {
      "metadata": {
        "id": "alnxBTejV0ip",
        "colab_type": "code",
        "colab": {}
      },
      "cell_type": "code",
      "source": [
        "pred_labels = np.round(predict)"
      ],
      "execution_count": 0,
      "outputs": []
    },
    {
      "metadata": {
        "id": "bdKAOIMLZArM",
        "colab_type": "code",
        "colab": {}
      },
      "cell_type": "code",
      "source": [
        "val_indices = indices[-num_validation_samples:]"
      ],
      "execution_count": 0,
      "outputs": []
    },
    {
      "metadata": {
        "id": "ZU5pNDiAaMR5",
        "colab_type": "code",
        "colab": {}
      },
      "cell_type": "code",
      "source": [
        "bool_labels = y_val == 1"
      ],
      "execution_count": 0,
      "outputs": []
    },
    {
      "metadata": {
        "id": "BeeYxqm9dCU5",
        "colab_type": "code",
        "colab": {}
      },
      "cell_type": "code",
      "source": [
        "bool_pred = pred_labels > 0.5"
      ],
      "execution_count": 0,
      "outputs": []
    },
    {
      "metadata": {
        "id": "7tORRi9OdTa2",
        "colab_type": "code",
        "colab": {}
      },
      "cell_type": "code",
      "source": [
        "bool_pred = bool_pred.flatten()"
      ],
      "execution_count": 0,
      "outputs": []
    },
    {
      "metadata": {
        "id": "lVC7l9tgdVV4",
        "colab_type": "code",
        "colab": {}
      },
      "cell_type": "code",
      "source": [
        "mislabeled = np.logical_xor(bool_labels, bool_pred, dtype=bool)\n"
      ],
      "execution_count": 0,
      "outputs": []
    },
    {
      "metadata": {
        "id": "4LPZ3nAwfj40",
        "colab_type": "code",
        "colab": {}
      },
      "cell_type": "code",
      "source": [
        "mis = []\n",
        "for i, j in zip(mislabeled, range(len(mislabeled))):\n",
        "  if i:\n",
        "    mis.append(val_indices[j])"
      ],
      "execution_count": 0,
      "outputs": []
    },
    {
      "metadata": {
        "id": "BII-UGvwfrQP",
        "colab_type": "code",
        "colab": {
          "base_uri": "https://localhost:8080/",
          "height": 71
        },
        "outputId": "660c16d1-0a74-47f0-d653-311f009b1fec"
      },
      "cell_type": "code",
      "source": [
        "print(mis)\n",
        "len(mis)"
      ],
      "execution_count": 58,
      "outputs": [
        {
          "output_type": "stream",
          "text": [
            "[217964, 271545, 9019, 16170, 213326, 97220, 237833, 279378, 66260, 272873, 264010, 12458, 50157, 40586, 148627, 189046, 56834, 46281, 183142, 127951, 217449, 62949, 60989, 279177, 145248, 235511, 195073, 21897, 297668, 226426, 76292, 242530, 66149, 117507, 78563, 194766, 295150, 140020, 91312, 186882, 31527, 62785, 219605, 260117, 241623, 283192, 109072, 295586, 95323, 186655, 20682, 254470, 210680, 19925, 84712, 200728, 117380, 33523, 67962, 144854, 280371, 132137, 244280, 73208, 283761, 121346, 84158, 243190, 178790, 218096, 88645, 178079, 267011, 10580, 84365, 53273, 108348, 204122, 64694, 69703, 53803, 175811, 209657, 293407, 160686, 212600, 137035, 43108, 161917, 32293, 48932, 247153, 54068, 263708, 218612, 175176, 245360, 164763, 24348, 281798, 216337, 36117, 147169, 86804, 281023, 211643, 84053, 2007, 119202, 104702, 230238, 87543, 52680, 275994, 161069, 186843, 110282, 162025, 219769, 86973, 3447, 33485, 84601, 256769, 78089, 97355, 26750, 52970, 191623, 128911, 188292, 111666, 188300, 104364, 216788, 280253, 15185, 23442, 266626, 180285, 254318, 170025, 181437, 21896, 111850, 105764, 137611, 133550, 258078, 188538, 95869, 175663, 128815, 256730, 198531, 70038, 34387, 23420, 58298, 241823, 161695, 85910, 230353, 33316, 37884, 143028, 259084, 167590, 171594, 133242, 188924, 287378, 257743, 236016, 145940, 226527, 41908, 85213, 184744, 85633, 215693, 78512, 73025, 209405, 295790, 132501, 160704, 67233, 76872, 170736, 273405, 38805, 4384, 164338, 92330, 267438, 242808, 116501, 219391, 164485, 274675, 296819, 13063, 84773, 56, 110783, 63148, 174013, 254016, 168751, 60291, 93842, 40397, 289950, 245513, 173623, 296272, 201912, 153962, 265737, 145354, 275949, 263314, 208911, 58958, 4422, 252675, 190603, 82873, 231793, 16542, 251139, 261675, 138141, 111287, 161504, 237333, 279583, 984, 292991, 188259, 238596, 276950, 68408, 95337, 132701, 161341, 173120, 285056, 141136, 118736, 213420, 59835, 288369, 248062, 150386, 227327, 49959, 34557, 209772, 34045, 187503, 9647, 197118, 127027, 187864, 91420, 275099, 248416, 227695, 207360, 24442, 10773, 148273, 138897, 294844, 93867, 235651, 292707, 115719, 109889, 161329, 113738, 220403, 111270, 115979, 190222, 17588, 293355, 214484, 117187, 265073, 59769, 209826, 2261, 53961, 255501, 66566, 259901, 195782, 222231, 231404, 14620, 267573, 20850, 170008, 20649, 46336, 98641, 232576, 200229, 211092, 48196, 86457, 198842, 291878, 241793, 120462, 98950, 226765, 3297, 103720, 226874, 169355, 137937, 93678, 285479, 235656, 121548, 61019, 244142, 258136, 256974, 135665, 247309, 130821, 274687, 173279, 6530, 2752, 66433, 247663, 237895, 295998, 9339, 23079, 207762, 281407, 121865, 110708, 232799, 5414, 66153, 216200, 194443, 219662, 288587, 253109, 34699, 162497, 93856, 191497, 104861, 273978, 233690, 226593, 39783, 54939, 76161, 63131, 26685, 239079, 247523, 279151, 55400, 205408, 49732, 259909, 149067, 263125, 247303, 190549, 289533, 126064, 173654, 185464, 156147, 235657, 134389, 243162, 12422, 290997, 125610, 59292, 161714, 2584, 48002, 262005, 211005, 271408, 195628, 84173, 252266, 113759, 12427, 15659, 250339, 3116, 231416, 105296, 254652, 159334, 252042, 245653, 234731, 227373, 139999, 167064, 20209, 46152, 73274, 89107, 259679, 21736, 102778, 54785, 104671, 47787, 61784, 170475, 122155, 129507, 104679, 140789, 211142, 114462, 213331, 226043, 247950, 85072, 53152, 276982, 4199, 47858, 26704, 64828, 187694, 231030, 93748, 90481, 187167, 214528, 143601, 229480, 200307, 191816, 199196, 193182, 15127, 6182, 145540, 177223, 146605, 290493, 15936, 143185, 92312, 3460, 104106, 40420, 75030, 7779, 260730, 238153, 260541, 269927, 64881, 1960, 22548, 149343, 213988, 239484, 143207, 191302, 129082, 48478, 117099, 67407, 97634, 72897, 20968, 280327, 111683, 56475, 170343, 189615, 157685, 50873, 6430, 274794, 133261, 191802, 15762, 244318, 247190, 54996, 6525, 57613, 21926, 140108, 23971, 20625, 24183, 83643, 95040, 165536, 79941, 25476, 217488, 216366, 107540, 262115, 32554, 155863, 178444, 134088, 66474, 275615, 165820, 138808, 297079, 182006, 3161, 283536, 129564, 110933, 104332, 78644, 229099, 269606, 170699, 71261, 96812, 263730, 279756, 229096, 265051, 217943, 184665, 162055, 2640, 221332, 12054, 121499, 74204, 194698, 114493, 116797, 129717, 298571, 127175, 191033, 289207, 25514, 265944, 56098, 110962, 88841, 55306, 56966, 197810, 226757, 129768, 40084, 230209, 52866, 290566, 61016, 253390, 242858, 70675, 57506, 72653, 237322, 268523, 22830, 100373, 61266, 245067, 299027, 255693, 75044, 137417, 147485, 66325, 155236, 142009, 169603, 272872, 299114, 58825, 239818, 3525, 65303, 195433, 32110, 199970, 256918, 3263, 117209, 259761, 79901, 84798, 236739, 191453, 40938, 211838, 165244, 123673, 268591, 208251, 272377, 220090, 12965, 285717, 165980, 93635, 287548, 105793, 8279, 117135, 54007, 64445, 211556, 274587, 265970, 279080, 86454, 65488, 227861, 220034, 223279, 151085, 226664, 296970, 244845, 63095, 232267, 69417, 236517, 115824, 29313, 63650, 268827, 45067, 35528, 162751, 113059, 51946, 243671, 167867, 238181, 239493, 247908, 166871, 244292, 284649, 151359, 169794, 239458, 15131, 259807, 39532, 224, 44828, 223748, 48085, 105449, 117510, 238288, 131991, 74752, 272624, 234509, 272542, 226367, 3582, 184423, 111963, 143689, 25862, 164662, 38734, 39676, 127153, 237560, 117829, 256313, 120512, 234640, 254004, 122814, 187747, 35317, 170162, 288654, 263530, 234483, 127527, 296190, 29740, 91664, 257742, 74088, 76901, 176878, 45089, 232474, 244014, 13847, 108153, 58929, 4569, 132564, 203417, 133615, 250271, 240128, 219512, 258247, 146616, 255935, 94407, 158269, 85211, 230836, 267080, 265546, 264331, 30277, 265181, 145195, 104503, 108591, 114831, 217122, 128244, 111092, 222786, 138970, 9599, 120539, 297290, 203088, 177954, 249209, 230112, 23154, 117401, 91648, 70254, 120806, 228816, 187959, 38029, 221724, 272674, 66455, 74420, 131302, 96556, 145742, 61155, 74248, 156757, 48935, 188109, 91631, 31842, 64955, 264346, 203083, 218782, 20393, 13601, 56243, 198668, 117054, 186989, 63574, 267968, 206807, 31836, 15790, 195248, 272028, 266912, 226317, 185833, 21178, 80543, 26986, 95108, 266681, 283557, 54137, 143089, 63793, 185021, 147207, 215195, 104041, 32126, 210274, 272494, 197915, 99050, 210384, 263912, 170397, 183436, 24855, 164913, 118584, 43714, 83249, 54966, 131907, 73065, 228993, 31309, 160456, 198874, 53311, 246565, 77861, 106870, 149855, 66039, 146720, 4874, 109959, 230222, 46092, 73185, 44426, 157813, 45225, 4572, 257937, 298399, 178224, 84768, 103933, 260276, 210686, 57907, 297013, 146677, 167980, 237097, 253620, 150246, 296084, 269975, 238718, 133175, 127841, 251805, 78029, 228568, 113358, 294784, 57871, 156375, 65459, 1493, 247363, 73737, 118580, 289182, 191257, 155444, 199154, 2551, 180225, 227739, 36890, 168840, 177935, 144387, 121546, 74584, 272401, 76754, 136265, 121445, 171686, 16971, 161048, 266389, 120383, 223859, 63287, 87989, 219920, 260150, 276764, 260829, 161365, 194890, 142967, 93328, 98563, 121217, 197388, 72399, 88643, 53905, 161245, 222371, 239809, 23518, 195853, 54289, 13766, 157898, 271574, 278564, 245850, 237978, 117974, 127577, 205214, 276371, 91377, 182159, 171128, 156176, 217882, 136278, 118552, 239195, 17182, 133989, 8304, 248735, 251159, 70532, 45119, 50920, 185491, 174662, 170229, 184914, 272528, 246965, 258799, 53260, 124193, 195655, 266838, 17507, 67905, 198975, 65691, 68213, 279814, 185003, 265274, 225192, 250953, 204432, 37974, 251363, 123436, 49546, 193649, 299079, 209955, 138259, 77424, 254925, 111175, 54019, 294395, 45003, 53838, 44636, 85792, 161731, 84210, 217802, 211779, 185766, 257153, 107585, 194565, 206638, 83697, 58385, 72938, 297495, 115855, 241924, 64755, 104758, 137170, 297202, 176075, 84465, 20967, 225870, 54070, 79675, 24376, 212858, 7036, 223082, 32021, 190889, 194366, 160891, 64752, 122290, 111031, 2793, 225432, 286963, 259450, 130808, 276428, 175171, 202783, 173096, 259401, 77961, 273025, 2110, 128323, 54952, 111693, 179790, 240008, 231749, 35542, 120646, 90777, 250131, 21061, 286621, 272052, 83188, 104139, 95030, 86019, 117543, 242183, 139005, 157417, 108028, 201907, 197127, 139715, 291872, 263600, 111796, 238867, 85725, 245732, 35467, 209158, 268723, 294465, 85590, 37628, 58303, 184474, 148930, 52149, 185089, 79239, 135620, 274402, 178645, 122818, 144063, 185458, 134485, 99474, 54195, 255914, 109936, 204467, 47781, 213662, 156634, 3097, 174558, 25042, 73912, 218573, 1978, 64660, 230725, 71361, 122455, 148478, 170479, 201287, 126321, 118221, 195659, 182440, 297798, 77311, 22365, 212703, 57990, 235460, 210170, 121037, 26780, 23373, 68266, 69091, 26201, 86893, 221598, 45022, 272640, 246224, 48125, 274581, 124921, 133193, 291057, 73224, 259717, 118052, 125478, 67599, 131924, 21803, 271533, 164907, 252279, 194163, 239623, 71768, 275212, 276738, 229318, 42323, 81901, 295108, 46778, 193030, 35731, 292807, 103352, 54247, 173016, 14953, 123371, 78529, 69953, 201649, 228313, 63960, 216386, 40465, 294834, 175821, 268298, 32036, 269409, 170201, 205203, 35858, 219203, 220188, 256327, 77738, 133164, 44859, 278363, 44649, 216914, 107189, 65680, 103961, 85313, 191820, 31995, 65733, 132404, 226648, 263064, 17734, 116235, 167358, 208230, 62265, 95035, 183125, 272932, 102142, 3625, 25494, 203053, 91587, 8076, 46021, 10584, 257543, 91298, 296277, 170512, 62690, 2641, 10, 73830, 222945, 108675, 109811, 14718, 210081, 9471, 287851, 196246, 155998, 295678, 250871, 154210, 45633, 269170, 185136, 266717, 90206, 229871, 169059, 166890, 298661, 8875, 210596, 25744, 292830, 246906, 113495, 162173, 73249, 281112, 52369, 79000, 217043, 176748, 231425, 45917, 212286, 9569, 102666, 65500, 105224, 185334, 84807, 1253, 49692, 94544, 72756, 269369, 165592, 139765, 65522, 182812, 185886, 261517, 177168, 45076, 172934, 174446, 81623, 4919, 182106, 208584, 54783, 150757, 39535, 162297, 121281, 48655, 64083, 268797, 264078, 57269, 257170, 165418, 186924, 28061, 52159, 181222, 66172, 232017, 259785, 275821, 98445, 224794, 12462, 250276, 108902, 189829, 177904, 241320, 101798, 3902, 219472, 147859, 170322, 16174, 6158, 296548, 248959, 845, 138571, 92630, 264044, 217640, 202630, 110464, 33749, 236384, 201601, 288735, 219468, 119814, 209212, 117796, 32012, 37133, 118955, 118144, 173305, 53863, 272077, 3884, 32561, 47832, 2813, 223679, 229255, 254122, 134282, 183333, 69468, 272428, 139642, 21110, 298946, 138264, 193280, 63559, 135055, 73741, 139346, 186438, 236389, 250348, 4580, 251607, 194983, 214368, 117293, 16242, 61432, 172557, 251611, 259854, 298061, 54957, 18935, 36149, 135622, 40633, 265864, 256591, 198754, 120832, 2797, 162041, 52059, 18036, 202873, 294213, 3979, 117882, 189085, 94361, 171531, 145173, 295897, 188815, 118870, 56412, 140372, 187346, 217682, 266325, 163157, 154469, 15319, 287515, 277902, 2393, 155016, 24034, 191742, 194268, 226814, 98604, 98429, 106542, 248187, 234829, 268245, 174853, 54817, 139580, 200078, 200715, 116708, 60634, 149033, 256728, 163489, 44272, 126184, 143373, 286763, 207305, 293543, 64946, 280208, 239933, 275470, 248993, 32424, 211337, 191798, 262311, 195225, 121858, 57378, 60635, 147558, 47500, 114090, 273127, 117987, 287059, 64822, 87993, 53224, 121269, 259627, 219666, 31455, 108263, 81005, 56854, 258232, 294325, 101762, 248166, 48742, 194660, 158340, 283245, 52066, 117450, 35014, 45765, 28348, 91613, 141863, 248123, 21102, 185409, 198139, 261857, 74761, 21151, 111742, 190928, 202739, 38327, 212240, 56177, 138978, 58237, 212620, 229991, 189337, 287000, 212203, 157954, 70923, 37091, 273557, 256413, 237451, 193703, 117555, 81045, 52446, 218403, 145293, 293413, 5849, 154638, 5964, 86344, 97660, 256521, 148908, 175132, 446, 138683, 213576, 192026, 41690, 195609, 201238, 235910, 264715, 217638, 172336, 8947, 65184, 67608, 22865, 30803, 175170, 148723, 179768, 75112, 25582, 239508, 266639, 173147, 132032, 73024, 265475, 120783, 228529, 281864, 185512, 70259, 104551, 72670, 285553, 264573, 64364, 137587, 73132, 33311, 260937, 66004, 65848, 129232, 98541, 133607, 143191, 272825, 218762, 78267, 285906, 125577, 38307, 290759, 176220, 9190, 190056, 135796, 228507, 273974, 51969, 7871, 84706, 116633, 231589, 108442, 210244, 165966, 207075, 189456, 25544, 178630, 226098, 87714, 139918, 296088, 235711, 104008, 238667, 20253, 102648, 138365, 24921, 156008, 210084, 286303, 204660, 121584, 4804, 58577, 45049, 233826, 187559, 47245, 26695, 255976, 95215, 170815, 153376, 33191, 65853, 287319, 245669, 136998, 231761, 152481, 215281, 115235, 167559, 134870, 281574, 228441, 256966, 232498, 18761, 210745, 263950, 213212, 220992, 123366, 193713, 109151, 117616, 27625, 243337, 5228, 297253, 45436, 61597, 44831, 126109, 264341, 149297, 25424, 174723, 258066, 218, 16740, 69219, 227329, 50483, 232213, 208827, 54515, 124855, 149095, 212085, 78371, 30452, 123090, 248616, 268657, 219793, 170215, 107074, 229439, 142849, 237841, 41244, 81834, 234449, 285949, 280059, 291067, 100470, 122703, 40115, 254753, 148176, 139234, 252811, 226780, 235623, 233704, 214537, 13057, 164536, 43169, 201277, 295042, 210740, 165238, 22418, 228515, 139206, 147305, 230531, 121578, 24244, 66245, 92636, 127595, 270907, 143206, 152807, 198839, 33270, 199911, 218695, 275837, 61605, 271241, 205894, 268727, 66514, 185188, 256352, 257357, 220265, 188828, 238030, 169060, 148027, 205743, 125124, 187869, 68038, 109533, 179756, 104438, 262038, 8281, 252055, 259323, 115383, 76563, 229242, 187499, 237039, 261761, 210128, 24221, 120371, 278137, 236981, 143223, 30623, 269060, 93662, 129853, 66230, 228603, 187630, 26448, 16095, 7635, 57043, 81074, 148725, 40356, 25260, 210638, 211270, 246233, 233197, 172130, 13679, 166941, 226873, 4274, 104676, 193526, 88546, 65251, 144111, 260340, 38466, 54104, 149177, 257139, 202732, 162546, 220436, 288914, 9852, 227381, 44721, 73169, 124975, 55480, 298742, 22781, 268006, 27592, 47705, 272650, 41750, 299198, 235023, 213653, 127259, 33190, 54411, 245211, 259145, 84783, 168464, 223719, 23413, 296653, 143227, 59192, 112300, 239474, 48062, 233678, 66145, 230215, 207492, 162169, 73841, 147923, 7746, 90851, 177694, 237970, 108171, 265560, 173776, 216961, 59909, 79909, 281686, 251793, 277866, 29231, 240914, 262522, 85929, 149323, 294, 67537, 65170, 48273, 9031, 108524, 267590, 25708, 228468, 142320, 242768, 36794, 123370, 252446, 84619, 133514, 212101, 247540, 72572, 89183, 51562, 143781, 85159, 9641, 74368, 246219, 61379, 252289, 267082, 22773, 116447, 178588, 176339, 267131, 256810, 59812, 54366, 242045, 204694, 219186, 198738, 124151, 39929, 16002, 163552, 95056, 257870, 55477, 111607, 92317, 23915, 116650, 249754, 14021, 110240, 42705, 271587, 57462, 210922, 92182, 75189, 73886, 231446, 47733, 164026, 170715, 103508, 227832, 41672, 16620, 103437, 101023, 299022, 248170, 230000, 170530, 234278, 24178, 196594, 44803, 90377, 71507, 136377, 209491, 151253, 14374, 98938, 13173, 280778, 271173, 292363, 178146, 163383, 126099, 6388, 74013, 204074, 278015, 198917, 260953, 27739, 223008, 137485, 155919, 13901, 175936, 114070, 254551, 177387, 190071, 179824, 228589, 23620, 207288, 102814, 107759, 8652, 9061, 170555, 34839, 155663, 126242, 24880, 233107, 298957, 264452, 273904, 53511, 39622, 282361, 218714, 230779, 248342, 119787, 216795, 96891, 4933, 284257, 137832, 239738, 122632, 271499, 190922, 116137, 208095, 159649, 87550, 185193, 125778, 268686, 240336, 10403, 251561, 155865, 226235, 55583, 233923, 38365, 78317, 279749, 227124, 209380, 262243, 175240, 93052, 95607, 35688, 47860, 94358, 187483, 199138, 258640, 208828, 74041, 177454, 250494, 268958, 105024, 207693, 12061, 144022, 278716, 292872, 242528, 178453, 90959, 34942, 112418, 197774, 30399, 87741, 285488, 89030, 202653, 59276, 247832, 175924, 212233, 191550, 52959, 76918, 73732, 279292, 119503, 23307, 181098, 118087, 67933, 295423, 228173, 197628, 41792, 62855, 284939, 39955, 65054, 42418, 62456, 225809, 238578, 12069, 166211, 195670, 65643, 120125, 43729, 6787, 49346, 162966, 104865, 143962, 259398, 224418, 98060, 9337, 82082, 134795, 172878, 3813, 110999, 131545, 296040, 42569, 218222, 66372, 31728, 242350, 166015, 111452, 272776, 142547, 173794, 290054, 207186, 279368, 296674, 210929, 47066, 166838, 117442, 67673, 67036, 116507, 21265, 182321, 206775, 80404, 259971, 287184, 239330, 67314, 171286, 187047, 187787, 266233, 69416, 99570, 186613, 26924, 103606, 32717, 137315, 83252, 228092, 247057, 242128, 265973, 269401, 77472, 18141, 73910, 206463, 165286, 226810, 171462, 279573, 193388, 206183, 200652, 255750, 218600, 51818, 32049, 48188, 155514, 196838, 237008, 176340, 162798, 71302, 273000, 62736, 115677, 161915, 81657, 256297, 68870, 263256, 230094, 57699, 174506, 241278, 258110, 292822, 278780, 25206, 42659, 259088, 226637, 90705, 294027, 75688, 206766, 229795, 262566, 295039, 137176, 40168, 113493, 72046, 229440, 237101, 172667, 101971, 115521, 243549, 205718, 161651, 38565, 65761, 53623, 97843, 15405, 110670, 247953, 144631, 33625, 67446, 190049, 191329, 245044, 1258, 152422, 246987, 172552, 163084, 227188, 149885, 288399, 42403, 272418, 266589, 89713, 124994, 118287, 182237, 7062, 41733, 115640, 252316, 8549, 52785, 108545, 227336, 154293, 162369, 86003, 23007, 69999, 18587, 110538, 73481, 232095, 32913, 123597, 94983, 287885, 227229, 240154, 219078, 233079, 280771, 170692, 113621, 5680, 144738, 151378, 212408, 296288, 23564, 278840, 137371, 102777, 178307, 7181, 18757, 236271, 189160, 168413, 16127, 268511, 269464, 153410, 174324, 197993, 116790, 52086, 73956, 268587, 151629, 199586, 16486, 84509, 81174, 40080, 146427, 123758, 214047, 137148, 298056, 99058, 54904, 233049, 286564, 62044, 56687, 146191, 102240, 213712, 55507, 77715, 139062, 121602, 50578, 29728, 213824, 42759, 268422, 187203, 83894, 191175, 205543, 293124, 120958, 105094, 290734, 280878, 84050, 235110, 210053, 247012, 156179, 206738, 119600, 290649, 36403, 285266, 85330, 71550, 133697, 227181, 293918, 3676, 212534, 5529, 15900, 257705, 11303, 246756, 118143, 108002, 139070, 39520, 54143, 237702, 24423, 8557, 26043, 141732, 169721, 119479, 283598, 101680, 85863, 20494, 222127, 89321, 177238, 255201, 15450, 157467, 40052, 80401, 268340, 28608, 67103, 162330, 253820, 100542, 63358, 216892, 187853, 101014, 252653, 157688, 4234, 20348, 198580, 246776, 211186, 202285, 147787, 275665, 198135, 236912, 82208, 169104, 294421, 138064, 240402, 7698, 62576, 266289, 204211, 262218, 241181, 15958, 75041, 44702, 153997, 65073, 227354, 227123, 217758, 152201, 99589, 65038, 161029, 49700, 209362, 194280, 59107, 25888, 192855, 272202, 227827, 140249, 116371, 235328, 110367, 198400, 265816, 254363, 252572, 226161, 248103, 66896, 259916, 25237, 211409, 253871, 109682, 60545, 25518, 209909, 35560, 169666, 295999, 251798, 64993, 195349, 25364, 108918, 176135, 8144, 197163, 8273, 107438, 237976, 62028, 187248, 208890, 136086, 190617, 79805, 223144, 293107, 110990, 12426, 268143, 108749, 205331, 30431, 132753, 171889, 148003, 117567, 197086, 227611, 70043, 192402, 219099, 252819, 136328, 101067, 211664, 80927, 61513, 66028, 241481, 20820, 77022, 142799, 276860, 244911, 249376, 204452, 129240, 136327, 266210, 62080, 64769, 241743, 296093, 15547, 266844, 170975, 71937, 131877, 99001, 144101, 243161, 204589, 138363, 137188, 188837, 45210, 73685, 88465, 108144, 54462, 231102, 190453, 101076, 226199, 128023, 57158, 219943, 288235, 54979, 47694, 116183, 124716, 165098, 228678, 263520, 273086, 110175, 145046, 288513, 189387, 136569, 118447, 6474, 245895, 291669, 282118, 171066, 177614, 246440, 79537, 211655, 14986, 166378, 41353, 118277, 230449, 66040, 229498, 178089, 25340, 244677, 278985, 294713, 219883, 163439, 85990, 90169, 146690, 214926, 66862, 284350, 251536, 15528, 44977, 105279, 146564, 64591, 67135, 222132, 298415, 286914, 294544, 118533, 53906, 117183, 187082, 174252, 199094, 67697, 247722, 46905, 201179, 39563, 227791, 158920, 57366, 196099, 74320, 17889, 106386, 273256, 175498, 137442, 68751, 150044, 273908, 175339, 274225, 27448, 147050, 44948, 199025, 161255, 170577, 276740, 17284, 155338, 172874, 254161, 150355, 145372, 86736, 79490, 137501, 233464, 83553, 272244, 230117, 55361, 169622, 223332, 4360, 105041, 251582, 116154, 172645, 212399, 39793, 273459, 85640, 265497, 102674, 44570, 55674, 27791, 65200, 46486, 192436, 255265, 288385, 46127, 15158, 94693, 35588, 200440, 95950, 205058, 44249, 293723, 35156, 105269, 254488, 210968, 187349, 48065, 240517, 266185, 276319, 134884, 145318, 268751, 66692, 188371, 228247, 628, 139189, 19572, 164638, 268429, 119750, 70664, 210591, 265175, 298658, 82611, 55191, 8196, 262248, 235781, 218479, 235835, 137621, 96164, 278678, 255594, 260456, 124823, 156787, 268349, 239756, 70190, 190969, 173729, 43307, 137906, 273777, 121592, 134578, 221368, 268055, 77713, 80483, 144071, 73023, 39092, 57808, 238345, 204286, 218345, 212461, 235102, 186363, 163594, 134810, 260223, 116091, 166571, 229841, 28926, 187623, 27041, 167345, 18059, 104976, 99122, 293598, 244716, 147284, 39888, 36130, 154882, 56872, 116682, 4623, 196703, 161380, 170891, 134746, 37235, 229617, 119155, 297293, 52205, 186747, 274850, 205176, 17120, 179777, 66298, 41892, 244056, 157542, 224388, 160502, 63779, 184419, 88538, 174303, 86502, 287981, 22316, 62664, 71258, 171652, 144579, 277441, 217756, 67397, 209804, 239935, 251038, 233639, 117115, 128738, 202880, 74865, 67501, 148784, 265652, 295275, 144572, 235536, 169073, 40631, 194823, 56354, 271556, 121991, 286935, 266273, 53574, 43709, 2738, 109789, 204245, 70331, 104244, 125798, 33335, 15585, 183902, 210989, 164108, 161997, 283514, 24274, 265000, 223935, 63830, 267136, 275490, 16824, 25600, 270967, 226148, 204338, 270715, 164374, 115682, 80644, 115744, 142438, 45004, 20977, 222080, 260725, 286121, 64648, 77243, 286430, 175681, 191244, 49197, 293965, 185031, 121221, 258354, 177498, 73794, 278192, 169884, 282103, 65391, 83544, 15719, 38551, 63578, 219767, 184822, 116096, 94770, 3069, 226578, 24382, 231916, 213955, 52972, 74003, 292843, 116493, 137851, 176165, 165591, 208769, 196217, 235332, 54447, 16687, 287770, 63248, 44018, 103495, 138562, 47485, 178413, 127202, 173997, 71779, 247625, 118553, 268379, 193520, 88442, 235986, 231252, 84126, 288056, 119168, 188782, 149123, 116770, 195828, 45062, 218101, 202650, 64461, 230572, 66706, 193679, 83211, 9027, 166875, 24610, 105001, 153730, 247863, 276476, 15313, 184322, 242769, 95331, 69774, 3459, 284162, 95533, 80215, 246370, 123453, 106507, 135531, 277385, 61515, 23527, 174818, 198896, 206031, 154037, 175011, 199180, 259799, 202054, 227874, 293822, 61984, 6945, 92404, 150763, 161321, 15616, 47863, 195149, 25380, 117155, 38612, 88405, 13404, 7696, 191155, 88197, 186826, 251359, 61381, 83372, 143662, 262183, 263679, 100514, 59849, 247178, 111744, 215154, 83551, 147716, 50938, 133990, 25477, 134362, 278302, 180049, 64621, 23938, 147070, 247288, 21859, 99217, 216277, 282209, 50099, 1946, 271658, 295018, 7103, 137133, 219063, 22810, 98557, 86829, 239124, 260873, 192446, 256110, 207265, 75471, 41069, 191229, 31127, 216103, 231558, 275678, 136045, 263566, 266143, 211226, 191279, 51192, 6737, 50131, 259433, 24786, 14885, 234519, 187624, 142978, 146549, 119148, 50156, 247770, 25259, 232718, 42032, 184340, 63121, 209054, 121377, 88600, 73465, 35419, 186148, 67692, 175147, 214240, 198603, 187717, 56282, 214393, 56445, 284079, 291301, 18826, 165957, 293312, 51376, 281991, 89041, 74653, 221837, 259378, 131969, 63395, 71486, 117570, 22835, 191126, 110841, 277112, 231038, 174462, 245867, 49054, 6466, 283417, 218377, 293453, 216394, 29268, 119918, 38790, 90373, 64403, 86042, 170394, 86835, 122158, 268002, 236377, 175081, 117203, 99115, 3553, 111372, 92290, 35577, 70120, 72732, 287495, 242080, 279411, 86285, 216845, 169952, 31868, 176428, 110870, 116972, 170627, 103490, 21523, 35827, 211707, 228016, 31798, 174565, 250964, 103489, 247225, 185254, 163521, 157405, 45305, 200606, 253003, 287894, 257820, 27228, 77415, 3957, 174360, 153217, 54912, 58131, 227782, 232502, 264840, 67796, 132252, 188827, 117047, 74855, 60375, 160790, 249100, 296505, 199371, 180667, 227697, 18885, 251926, 295063, 222852, 280588, 278819, 48608, 242485, 93118, 217121, 144548, 245457, 253828, 73835, 18555, 266440, 224609, 269205, 243071, 234929, 64531, 108919, 122130, 175817, 274248, 213408, 35589, 32997, 281097, 92809, 274983, 91512, 154880, 94840, 258665, 185795, 125436, 254531, 150243, 149049, 79639, 38211, 203346, 7392, 165683, 129328, 238078, 297571, 216507, 105258, 94200, 190895, 232631, 241167, 61118, 87467, 191321, 11291, 267351, 154647, 133832, 84425, 53337, 204292, 9050, 290292, 293439, 195804, 131603, 301, 251905, 239259, 215754, 265467, 103220, 287975, 74980, 25183, 103815, 30577, 77563, 48639, 283408, 298794, 194761, 64757, 188483, 212583, 287140, 116646, 188509, 236141, 245589, 77451, 89193, 84859, 238096, 229779, 238132, 263264, 262122, 175114, 111345, 128064, 228836, 71394, 53155, 35468, 210631, 201566, 5910, 33290, 44334, 116304, 224272, 100263, 266018, 94587, 209439, 21154, 115333, 114283, 95357, 133999, 96767, 117842, 139121, 147174, 164610, 45503, 168343, 14792, 137306, 6237, 172735, 19438, 264379, 140290, 86497, 17738, 111889, 247583, 237497, 213700, 269232, 51982, 106632, 214372, 210514, 60302, 145332, 228047, 293596, 243926, 183430, 110474, 277670, 146817, 182029, 139324, 123488, 147059, 264253, 67106, 101965, 74756, 298802, 7393, 192541, 158695, 21945, 254375, 36201, 207911, 83860, 174880, 157439, 48539, 9416, 217967, 4432, 218375, 71780, 242890, 245754, 44479, 71402, 267528, 120058, 174495, 228241, 163931, 292422, 120719, 284073, 76838, 116698, 273282, 72740, 266312, 214299, 282526, 78998, 247224, 45084, 287711, 210981, 76298, 16090, 138275, 266591, 220341, 222024, 7520, 120862, 274562, 108410, 94660, 65692, 232138, 166410, 298431, 128875, 294158, 8821, 67734, 172386, 139914, 287387, 9611, 42079, 83680, 166335, 278823, 202323, 29301, 278186, 197043, 101547, 62154, 233396, 293357, 275211, 194237, 215698, 293479, 263863, 118312, 179404, 281689, 134970, 243556, 243219, 220990, 56224, 297351, 267194, 159798, 258485, 141786, 129062, 104036, 210839, 102984, 298702, 108074, 102699, 161705, 171839, 88050, 287165, 190590, 2589, 64360, 15170, 277148, 161314, 87613, 295442, 58335, 118327, 122349, 164263, 62747, 281260, 297305, 97229, 44364, 294730, 257198, 54503, 267716, 215370, 272810, 20423, 234018, 203368, 109798, 38890, 165162, 103164, 162502, 245647, 76829, 283802, 197701, 246879, 115976, 274465, 232706, 170649, 15222, 108161, 191183, 50061, 111197, 227928, 220269, 238632, 299083, 68190, 207660, 227135, 155997, 119506, 14800, 176950, 199986, 14399, 174668, 206096, 280134, 27275, 283276, 208137, 216787, 181317, 184565, 47651, 31498, 164872, 133643, 161579, 107625, 270634, 14011, 271721, 35711, 205978, 250933, 93537, 151147, 72934, 234125, 73871, 114195, 192466, 195708, 54945, 279542, 173961, 136642, 156180, 298202, 111370, 56750, 186532, 65122, 102331, 124272, 45297, 155555, 155819, 155638, 44254, 259769, 298679, 54021, 236915, 57842, 31328, 29296, 176479, 3305, 228455, 47105, 208245, 14968, 184476, 123727, 144586, 172219, 171667, 1801, 142142, 88552, 278981, 178769, 35930, 86856, 247053, 170917, 126193, 177045, 77600, 204441, 120693, 143994, 216534, 157915, 200270, 22272, 32256, 290392, 107407, 272770, 10221, 38435, 171649, 70637, 155426, 291700, 154081, 11854, 176865, 120642, 182084, 15560, 296582, 40142, 285536, 257475, 151823, 59642, 229127, 51031, 55323, 221540, 185891, 57600, 168272, 196486, 209642, 9702, 202443, 239637, 261424, 156542, 17009, 36662, 222379, 167227, 241199, 185134, 292818, 184724, 281391, 282960, 205748, 263867, 4641, 165752, 283171, 203712, 269911, 103660, 64925, 259162, 26387, 5126, 88693, 162462, 72731, 31754, 96159, 230106, 100600, 74827, 259197, 234627, 25428, 163311, 132426, 60751, 206194, 123126, 169816, 138623, 141298, 160605, 49539, 5073, 296085, 219197, 178641, 40314, 49840, 198931, 269380, 15120, 185717, 117297, 258049, 14287, 71576, 16185, 159628, 15557, 73702, 199063, 32315, 231489, 102396, 52563, 213449, 203367, 5836, 100143, 2220, 148994, 243719, 220561, 3870, 95285, 295123, 1590, 10838, 263501, 216629, 255840, 97906, 253821, 275594, 210316, 2176, 120839, 219765, 84014, 124947, 38814, 97759, 153153, 28967, 210237, 209915, 60953, 115919, 44809, 247361, 210314, 192214, 168318, 225844, 296197, 127695, 73824, 136442, 23983, 85381, 105323, 99158, 73726, 249004, 33878, 120138, 57150, 261717, 228376, 36976, 41196, 293823, 127434, 1372, 148995, 21569, 119571, 75108, 22763, 15407, 96558, 55358, 257817, 271076, 86401, 42946, 109188, 125900, 115882, 293805, 78942, 15812, 70857, 32164, 67696, 185395, 180978, 10703, 103145, 22336, 48537, 39321, 4232, 33104, 296132, 170388, 11680, 209022, 227064, 204873, 251232, 145873, 244674, 4410, 294447, 195118, 281753, 46833, 99422, 50576, 110806, 85825, 91098, 21718, 328, 255784, 96095, 107983, 66981, 136811, 223254, 162982, 226803, 167219, 156740, 152570, 217226, 99896, 56138, 73889, 116414, 289926, 296268, 246306, 109772, 195760, 212185, 184604, 184420, 94255, 180290, 52396, 182606, 172156, 274746, 226514, 136198, 213218, 96598, 161057, 204681, 113853, 174009, 110445, 239322, 260649, 172461, 274763, 148171, 168472, 19771, 186781, 218527, 217605, 103889, 247703, 277998, 135398, 221836, 111825, 165355, 148438, 51866, 104386, 29193, 247006, 178589, 94536, 248284, 132159, 55924, 66923, 131221, 293287, 220005, 42321, 282678, 137782, 288913, 199345, 51907, 13006, 32408, 295557, 8382, 104706, 280476, 116104, 71540, 147136, 169385, 173171, 187872, 21192, 169453, 25664, 227274, 70258, 178555, 296022, 153252, 264651, 65809, 55061, 107565, 138118, 103520, 214540, 184520, 60035, 44444, 294984, 170178, 88250, 198598, 247739, 92723, 57473, 124708, 111818, 74427, 227889, 24951, 14988, 71852, 280632, 210423, 73361, 116560, 41798, 9338, 851, 272062, 208483, 261372, 113176, 283522, 268520, 168317, 151480, 64852, 1085, 171978, 198229, 257223, 52256, 224353, 209856, 25683, 94968, 126133, 203078, 161864, 212762, 29975, 264714, 154463, 192240, 249774, 149010, 84107, 224177, 163704, 26258, 135237, 25015, 265494, 34, 18386, 28923, 284477, 64045, 173844, 267260, 87302, 218813, 232563, 121274, 241135, 204874, 17278, 235719, 246405, 105334, 262107, 272456, 267933, 136007, 71816, 3603, 296065, 69584, 42812, 244723, 13922, 66875, 195651, 111893, 31168, 162302, 200748, 298092, 226730, 14575, 107079, 57733, 246599, 257782, 269038, 136430, 240340, 76935, 246012, 27203, 119108, 34667, 78868, 52791, 66412, 140024, 229634, 89591, 26620, 125235, 206437, 124958, 15868, 273423, 173509, 21699, 74986, 220016, 152877, 786, 196111, 40401, 170034, 8140, 91333, 84909, 58732, 269866, 210482, 100907, 297695, 267986, 200285, 118851, 266332, 269027, 65124, 33987, 227374, 2603, 152945, 226702, 179427, 26226, 83974, 132569, 294615, 167262, 235839, 4539, 202384, 151719, 211821, 287389, 271229, 222015, 65162, 10925, 194059, 222729, 256338, 261338, 269637, 157477, 102266, 41384, 237678, 119641, 154003, 87112, 216940, 137879, 279193, 41532, 83779, 58376, 208343, 121601, 101417, 229677, 46299, 193527, 63842, 133177, 293948, 178864, 34103, 189740, 141868, 58012, 73201, 168185, 30786, 216574, 63923, 222265, 66235, 164196, 253014, 4510, 74829, 79714, 136896, 210428, 101423, 144341, 288413, 74894, 93563, 74022, 38843, 285514, 280710, 259635, 154084, 100459, 232890, 126456, 58813, 158707, 242449, 101505, 170872, 63753, 181810, 170276, 272187, 7613, 206691, 117216, 87386, 40870, 156762, 4859, 259121, 104908, 155637, 252375, 274251, 20633, 21505, 216635, 88960, 139456, 159174, 116166, 200003, 60091, 112314, 1738, 58691, 61986, 85827, 30630, 235705, 97662, 166945, 13992, 194492, 78653, 295974, 217318, 122464, 108972, 87439, 19646, 159088, 296106, 173418, 164856, 74260, 279421, 52751, 58981, 98717, 296689, 67977, 218366, 52099, 124385, 246988, 224610, 66852, 35899, 229950, 59795, 77628, 4906, 160013, 41621, 297549, 161315, 182543, 47578, 74660, 25339, 45064, 223026, 91303, 21276, 279224, 38833, 45591, 129588, 252362, 228758, 27855, 274950, 69812, 43227, 238166, 296659, 7163, 98743, 139583, 141538, 210005, 275788, 234884, 259919, 84079, 194979, 77656, 189099, 175913, 17501, 129756, 34769, 88291, 285381, 1533, 94561, 81092, 227744, 163438, 240308, 136851, 208719, 152604, 15712, 297535, 56075, 187824, 161562, 212050, 54951, 147607, 44207, 140950, 204203, 214724, 115293, 294091, 165524, 2413, 297249, 224359, 221341, 119105, 184531, 46691, 13617, 167620, 127125, 194500, 152505, 139188, 160984, 15155, 4266, 205488, 118267, 267099, 197574, 35040, 172011, 24008, 223901, 195471, 166750, 140680, 206132, 297703, 89482, 147566, 80368, 171054, 296551, 210935, 190117, 209930, 287256, 111510, 88590, 186821, 272454, 74426, 76792, 18326, 8951, 104307, 110167, 229450, 138209, 197204, 242510, 250955, 79217, 118645, 232788, 241566, 66393, 148912, 117154, 93601, 73011, 959, 148467, 293993, 80729, 219228, 269019, 104120, 227655, 73796, 36739, 105057, 229108, 240511, 158866, 93323, 292625, 215231, 105570, 188456, 275257, 135165, 112138, 276029, 231854, 52257, 44217, 48930, 137734, 18542, 113256, 2616, 25693, 54074, 245598, 204302, 74551, 283257, 25381, 15141, 136110, 63207, 295381, 214508, 287112, 270583, 152969, 33380, 132182, 137497, 275281, 127081, 111631, 21246, 119840, 51806, 23880, 137406, 174486, 21146, 73093, 166567, 206664, 137564, 269845, 242437, 84134, 268801, 201119, 151095, 64211, 187762, 294315, 100850, 164655, 74344, 100476, 636, 195392, 265550, 295074, 194254, 73943, 106106, 216444, 13403, 275713, 9499, 292932, 228528, 13412, 285035, 118542, 3407, 86538, 210822, 52468, 32904, 211702, 226023, 234674, 34308, 15419, 70630, 276894, 55851, 53991, 263911, 126603, 123163, 161936, 94604, 222466, 209998, 98598, 223977, 84756, 35569, 287376, 88401, 204196, 252763, 89099, 204548, 74324, 246498, 244994, 161101, 296732, 155582, 117431, 287474, 34766, 145771, 55192, 168776, 838, 161483, 96509, 280498, 277049, 226974, 55577, 124007, 116098, 181561, 188644, 170325, 171237, 287431, 202970, 250957, 2861, 251694, 206814, 66850, 73563, 277891, 228194, 15725, 83920, 77469, 74664, 37743, 9644, 276748, 102827, 111909, 279662, 223191, 146275, 64830, 287287, 23802, 121340, 187565, 184839, 56950, 137220, 3757, 179641, 173105, 87549, 3942, 298423, 126881, 199456, 281032, 18390, 68141, 278988, 109547, 164087, 269015, 138203, 219275, 18198, 279222, 228277, 44377, 73293, 271864, 217581, 279206, 239828, 79533, 84233, 189775, 49534, 223818, 169987, 111206, 244791, 145161, 95284, 258043, 290254, 95005, 281490, 25497, 60213, 275623, 266326, 108015, 25199, 94004, 295227, 125120, 221606, 82401, 82468, 162745, 196039, 256021, 267424, 117918, 273806, 53769, 139209, 13320, 72922, 205465, 276582, 272632, 298913, 245530, 24067, 121523, 185938, 173772, 231250, 189646, 4548, 162841, 294565, 45356, 193207, 4243, 286342, 56437, 141443, 184496, 44083, 281379, 89257, 21957, 210558, 177388, 254520, 266834, 212568, 180980, 104997, 166143, 186506, 124470, 230578, 213282, 267615, 45468, 81137, 295464, 159514, 223075, 177677, 75730, 36511, 57873, 205402, 98957, 236035, 148095, 238098, 33314, 226214, 13290, 147192, 287949, 286730, 57602, 292848, 22037, 53239, 54215, 86776, 204244, 210476, 74699, 65444, 91548, 117785, 14046, 208348, 22915, 91641, 195725, 205369, 188842, 95267, 111119, 176827, 180547, 106629, 14085, 78407, 256143, 51085, 182928, 105985, 281496, 121352, 272464, 164149, 131490, 190836, 32679, 31199, 217601, 292873, 249969, 186424, 143649, 3357, 120181, 299124, 34043, 160488, 233187, 97358, 173655, 279684, 160846, 5402, 53109, 13962, 226255, 95593, 100970, 190297, 144773, 184456, 275938, 66301, 196556, 161286, 159897, 210766, 295499, 275834, 110876, 254084, 14319, 136689, 217938, 246694, 293491, 60256, 268426, 9305, 229400, 200656, 150505, 50240, 261246, 220446, 233602, 55907, 184584, 110105, 86216, 67430, 8118, 165829, 173771, 226165, 268866, 15555, 137492, 54576, 124618, 248990, 155995, 286869, 73060, 56209, 144337, 164861, 235139, 101022, 137795, 175111, 143041, 25525, 84841, 107416, 66759, 95367, 227628, 118525, 12907, 184494, 282945, 264060, 104517, 187649, 20961, 71979, 204377, 234602, 64824, 195930, 162138, 70132, 161009, 74883, 245261, 157694, 284850, 227570, 243150, 173107, 257776, 274688, 993, 136822, 221290, 222925, 109319, 9500, 114377, 269310, 121780, 154427, 272010, 271021, 120134, 226171, 220138, 226203, 260349, 246593, 108917, 277838, 62639, 1106, 296617, 226264, 182358, 191932, 230202, 294789, 208433, 75792, 142141, 200692, 72103, 66808, 195454, 218168, 168270, 258683, 15894, 140058, 169730, 117810, 67542, 215962, 157093, 5420, 230728, 88336, 296735, 213389, 295923, 272984, 64532, 122112, 282527, 71369, 166898, 112847, 62460, 235811, 21629, 220560, 269087, 208325, 115749, 253615, 55378, 296387, 248096, 262003, 286647, 139725, 25523, 74901, 209534, 70645, 6449, 531, 16020, 49835, 36477, 287799, 203818, 190823, 86085, 227041, 182382, 102268, 176031, 81533, 16085, 295342, 85487, 108728, 266817, 53645, 234531, 202111, 76137, 47647, 197934, 173779, 9678, 130025, 289861, 177032, 295207, 141757, 171739, 104498, 64649, 283510, 99865, 298713, 264837, 66601, 43263, 127005, 113699, 189438, 74063, 116200, 100879, 152423, 205859, 268610, 227350, 214569, 114785, 31876, 243860, 233909, 115869, 29374, 285837, 226695, 272754, 216962, 86223, 122170, 267890, 194463, 60987, 122037, 125567, 5224, 295455, 85173, 92357, 280877, 173827, 186935, 118238, 16034, 172641, 169718, 158100, 289038, 244773, 188339, 45194, 39139, 44050, 197929, 162425, 34285, 75547, 227293, 206551, 296158, 158865, 45209, 195120, 297167, 163559, 149392, 262114, 133880, 195893, 228074, 66753, 104867, 203469, 45580, 47618, 191722, 68686, 286613, 30960, 106742, 7248, 66371, 44540, 253002, 121526, 175245, 22525, 283657, 254950, 67876, 243077, 83927, 271062, 99790, 14628, 73620, 106718, 22461, 29405, 92891, 247981, 143183, 39494, 268996, 205095, 39911, 230028, 269263, 48790, 216967, 35659, 1379, 73965, 172495, 215613, 273415, 258919, 63223, 204419, 59541, 7293, 244404, 65987, 297129, 260243, 279639, 202259, 132259, 14622, 89657, 248449, 46694, 243291, 73873, 70979, 249480, 250956, 15230, 65997, 110798, 264621, 111649, 231977, 242647, 103278, 265121, 195113, 245544, 160278, 143642, 122195, 224278, 141210, 87905, 274612, 107851, 65156, 26814, 116227, 185182, 88402, 82857, 13172, 38641, 19607, 4699, 287706, 205001, 26508, 265809, 76616, 171543, 176651, 132789, 159078, 206078, 44656, 137263, 214357, 100320, 174953, 276350, 10558, 29709, 227448, 2315, 50983, 279763, 40992, 220124, 82807, 232041, 236956, 10555, 198199, 167049, 106073, 290312, 232730, 185946, 53105, 261853, 246139, 29228, 48275, 162250, 99785, 73210, 266923, 27163, 275836, 69386, 35107, 233195, 157041, 2888, 147887, 50883, 272134, 76265, 192148, 66586, 172642, 268152, 34681, 62959, 122921, 170041, 273560, 191587, 262763, 170533, 163427, 253523, 284071, 180975, 67223, 152647, 161939, 106878, 274551, 24246, 229411, 73997, 84906, 197700, 114597, 145565, 230600, 84178, 182723, 99401, 1262, 65211, 137407, 231403, 240147, 174612, 104866, 259719, 124790, 74903, 188245, 92307, 46095, 189401, 73506, 9035, 104204, 118564, 266076, 188284, 43265, 96354, 17108, 167310, 15367, 96964, 229601, 63675, 289285, 66031, 288463, 63225, 19523, 152086, 142575, 29259, 74502, 275379, 188838, 115191, 157686, 262586, 249399, 56626, 140081, 99516, 102638, 96917, 173238, 241782, 117883, 155680, 937, 235602, 148659, 147651, 163276, 103301, 265870, 250032, 157839, 63599, 18950, 132390, 184004, 127256, 141760, 280902, 268995, 174165, 38711, 235543, 111291, 73338, 207958, 164595, 180050, 164265, 130387, 1066, 251692, 116817, 95517, 21508, 190143, 256139, 234975, 108637, 263068, 165301, 183440, 219206, 125662, 110535, 226382, 78260, 165461, 192539, 232805, 50027, 87895, 217019, 194781, 248172, 193093, 268936, 50593, 245454, 238290, 16742, 76548, 248013, 23678, 260146, 55391, 237966, 288582, 18205, 286573, 37644, 52654, 228098, 259037, 147378, 67368, 232335, 103882, 276661, 187158, 115092, 188557, 172563, 135991, 87984, 25310, 78357, 109601, 195929, 130756, 138644, 117064, 298393, 296424, 185109, 163708, 103331, 64783, 231899, 83067, 186650, 124435, 110516, 79481, 25915, 237134, 171485, 94881, 125919, 147201, 172121, 247335, 40089, 65972, 84616, 151196, 16169, 256526, 2932, 257144, 96384, 88045, 73192, 185685, 110681, 26181, 228562, 265336, 132792, 15795, 59366, 149507, 192639, 111810, 137667, 175880, 95432, 239984, 116760, 123141, 282968, 231825, 263729, 291641, 228029, 265045, 66756, 133113, 254319, 25341, 44210, 63647, 249685, 229756, 39020, 74354, 262575, 128090, 211673, 275323, 106356, 74372, 295016, 288473, 263779, 10599, 29021, 189560, 5370, 189535, 268005, 229060, 211150, 24434, 46685, 66660, 279467, 136288, 204523, 239777, 188084, 81147, 169598, 46142, 278177, 217690, 42776, 52209, 35459, 39481, 30156, 288647, 121297, 96470, 32099, 172871, 186893, 269553, 7610, 26119, 91989, 256612, 25911, 8978, 228886, 143298, 279933, 50397, 152066, 24685, 221689, 121476, 288407, 185160, 96520, 45028, 187848, 204251, 279477, 287830, 271952, 25771, 287096, 161292, 120892, 24081, 132935, 245715, 295279, 153966, 253705, 14584, 102740, 229405, 223457, 85788, 2052, 170778, 185993, 288354, 154809, 187382, 269952, 116697, 279434, 125019, 188917, 245632, 264871, 211187, 247258, 45495, 128803, 170307, 227258, 83246, 120931, 102310, 238913, 65501, 170465, 51208, 22108, 22890, 240480, 287545, 111305, 144889, 252951, 115847, 90621, 210585, 44269, 56023, 119389, 261959, 207004, 161408, 170710, 260753, 164284, 119922, 29773, 66081, 125605, 94850, 266097, 208551, 102715, 1223, 284571, 67486, 269262, 292968, 269686, 293901, 241174, 101830, 288601, 231743, 73514, 11333, 71380, 134248, 147618, 258420, 197859, 49933, 22056, 5709, 227008, 219811, 1364, 204374, 155014, 245892, 249967, 46201, 211123, 173487, 65618, 191673, 229799, 91340, 65, 9172, 274977, 106012, 271270, 17335, 296423, 257535, 78858, 176510, 127776, 171028, 146232, 81879, 236521, 78957, 103659, 78258, 239018, 182097, 182132, 196727, 60530, 201314, 834, 291026, 210973, 271773, 41292, 121264, 107954, 133401, 167473, 262810, 153107, 276241, 136213, 117027, 90287, 95510, 268247, 86742, 254024, 51533, 162327, 76509, 118076, 255025, 57965, 3495, 109797, 287663, 208856, 116772, 88527, 293518, 52739, 209234, 283724, 131847, 73554, 147816, 64672, 55973, 66654, 217255, 119909, 214389, 287230, 38588, 10266, 198715, 179285, 113713, 55627, 48604, 35683, 160462, 289474, 193718, 123782, 168151, 161025, 113504, 238776, 5890, 250337, 244536, 96175, 61548, 27300, 91009, 4061, 120926, 85553, 107732, 271518, 191076, 216013, 203724, 105615, 33004, 267278, 265029, 293210, 215838, 111845, 127025, 181495, 115827, 66191, 188435, 52885, 33531, 274441, 164697, 139706, 131472, 54574, 286335, 12324, 184202, 74129, 149467, 17225, 132338, 277974, 104158, 205818, 297359, 164475, 185139, 184244, 291252, 59305, 267165, 253994, 53727, 156087, 145865, 247167, 5026, 53110, 67549, 145063, 143683, 267089, 157681, 179988, 176819, 16231, 25058, 18906, 133681, 48570, 243522, 74656, 5534, 69068, 117056, 207944, 71814, 78568, 268516, 158382, 5383, 104131, 47449, 178367, 250324, 52162, 134191, 200197, 250313, 65735, 263174, 183976, 173830, 232687, 43955, 116205, 106888, 209020, 81572, 116726, 804, 117886, 99342, 121158, 46904, 234527, 61945, 126688, 259111, 223792, 175781, 277831, 266909, 230479, 119011, 213268, 20118, 166475, 163745, 205667, 197196, 86033, 30005, 167889, 13573, 280869, 96458, 2306, 218018, 173532, 248367, 181438, 205682, 2995, 247694, 155621, 248451, 172701, 187546, 289180, 44984, 79844, 109187, 65304, 206920, 275386, 232754, 296489, 4395, 93050, 74871, 274053, 109873, 261951, 187750, 131817, 71565, 194393, 10944, 296092, 204191, 101538, 144176, 191937, 282419, 148147, 238777, 99172, 22991, 145470, 279536, 65695, 230913, 58578, 223432, 234424, 98787, 140833, 153795, 224390, 111821, 71614, 112268, 250391, 245479, 193135, 102742, 228374, 150440, 78446, 24502, 30469, 177241, 234917, 248720, 111930, 84119, 176477, 80252, 54816, 111544, 202932, 170466, 203960, 14994, 22186, 202754, 206899, 55452, 54804, 227412, 74633, 38847, 260295, 91825, 273814, 122565, 71341, 286149, 86071, 64934, 281633, 152676, 223020, 2005, 49648, 132915, 142933, 228467, 3544, 23703, 83998, 71853, 138736, 235560, 181106, 170088, 29219, 207945, 7005, 65482, 137620, 61478, 170026, 129510, 116381, 27009, 202403, 283666, 125909, 115994, 133282, 126041, 232342, 219021, 153017, 74700, 86273, 97049, 266661, 258470, 155343, 108413, 297575, 285792, 57452, 4004, 14043, 285467, 73076, 215230, 210303, 182473, 140126, 64496, 245959, 185145, 208047, 30260, 70296, 240055, 150224, 200150, 148378, 227322, 88612, 229910, 197632, 211933, 197002, 244813, 196419, 289490, 30522, 298817, 40279, 8286, 38835, 44757, 111960, 281184, 112774, 3006, 135031, 104807, 35194, 195502, 282599, 126130, 261145, 172506, 169823, 247876, 185927, 55441, 83424, 297770, 25676, 282248, 11179, 101758, 111344, 2066, 214571, 107975, 68672, 265888, 24858, 21039, 186057, 198105, 280973, 234015, 247944, 104971, 294483, 41402, 234014, 145744, 67575, 81190, 262444, 5287, 136900, 278447, 84087, 212798, 239567, 282208, 221108, 8890, 195483, 90409, 176675, 239985, 141392, 63374, 296487, 275510, 163685, 270357, 171178, 269062, 137628, 137210, 272008, 81369, 267814, 125673, 231500, 61198, 39244, 235004, 66676, 72791, 85970, 121003, 184448, 47886, 286477, 32929, 35578, 146630, 144275, 208000, 35460, 66954, 293429, 63583, 14585, 284267, 209935, 229907, 251629, 270963, 24162, 25732, 149182, 109384, 213421, 87994, 234525, 140371, 226188, 115501, 34185, 35405, 210219, 192767, 47328, 148285, 271975, 283169, 193410, 297774, 56120, 86267, 24009, 81032, 123432, 53534, 234614, 4073, 79220, 260540, 188971, 116657, 121288, 293648, 118464, 84828, 172470, 80617, 45307, 80129, 197125, 43041, 128144, 2681, 78233, 45829, 172031, 296587, 37341, 32301, 209768, 67493, 13019, 107217, 210949, 15080, 256135, 218675, 273696, 136239, 127803, 179012, 255932, 248082, 165934, 259431, 231339, 235168, 95423, 242900, 3037, 289436, 91002, 169498, 61483, 53009, 138333, 167729, 234437, 137326, 33358, 268774, 209370, 104713, 166494, 190652, 137525, 173061, 74677, 267088, 133593, 77639, 274130, 137660, 74210, 80656, 73425, 277169, 53284, 226238, 78624, 265786, 235561, 271411, 182925, 287217, 2675, 205584, 52726, 219804, 283732, 57804, 232790, 140883, 98757, 152492, 244580, 298149, 278067, 143456, 93598, 269235, 259683, 169751, 276566, 271536, 70869, 49202, 231415, 117693, 112980, 71567, 146513, 31857, 6248, 73269, 227266, 41802, 125230, 176994, 77131, 170417, 41143, 196441, 167279, 150455, 237174, 187379, 215143, 1281, 33596, 52569, 170303, 74587, 52290, 217699, 138634, 297406, 116058, 198270, 177604, 168842, 207651, 121581, 273418, 182085, 116820, 221040, 145685, 152975, 115658, 121702, 99784, 186892, 145861, 167201, 104602, 24455, 286908, 275835, 260955, 117269, 187491, 93389, 56157, 61420, 203609, 87744, 94344, 203757, 288, 261707, 41224, 121805, 227893, 61815, 86342, 227020, 275215, 260591, 102251, 284186, 186904, 73001, 228450, 177753, 240196, 87294, 140720, 272695, 80772, 63459, 110457, 296051, 244367, 94764, 91891, 229540, 81895, 226097, 118480, 183560, 210707, 5141, 119350, 164153, 239875, 170912, 210201, 147405, 54987, 116949, 84228, 272436, 103602, 219009, 229274, 204014, 268542, 183126, 166034, 283930, 178495, 89651, 256122, 78888, 185997, 239480, 294633, 216503, 191748, 194299, 3062, 288912, 259985, 72119, 259677, 295959, 15983, 226355, 236885, 19294, 74259, 203575, 289015, 216896, 246869, 253583, 266787, 130486, 122102, 285818, 206890, 184362, 109627, 95758, 174363, 151645, 209843, 264340, 8290, 89209, 48983, 195270, 71551, 14636, 195031, 73493, 160982, 200628, 41341, 22679, 9211, 299173, 143617, 226986, 147947, 187996, 236355, 140844, 244386, 50708, 86440, 296472, 102988, 265616, 283252, 253536, 182157, 166434, 96913, 195774, 154073, 251319, 100812, 195122, 261464, 278545, 222356, 147559, 220423, 152927, 135297, 73287, 143877, 56501, 282787, 66248, 25619, 198571, 264267, 260747, 52471, 281752, 162165, 111512, 54823, 189051, 111239, 98662, 119068, 265634, 238704, 279493, 20691, 261418, 125016, 269713, 6260, 40928, 216974, 213295, 76546, 223555, 73508, 166285, 6904, 264093, 147406, 255298, 65128, 259375, 122962, 217447, 244600, 64227, 32439, 131824, 73038, 201120, 191946, 16109, 49432, 55183, 294038, 226875, 233658, 111338, 197160, 247195, 117167, 127139, 103279, 298829, 147746, 296473, 275699, 267151, 90854, 162160, 18609, 184437, 169064, 255121, 143790, 123002, 64377, 223343, 228499, 283552, 175964, 227393, 297501, 157010, 120427, 6294, 166886, 254474, 268984, 87876, 84265, 93994, 186528, 184328, 10244, 265660, 116130, 203545, 271603, 263490, 188057, 214703, 227684, 274389, 114693, 209401, 227678, 67213, 44822, 175968, 120620, 41296, 152256, 106125, 268079, 200008, 116938, 250690, 189644, 218410, 272876, 258620, 228470, 23283, 235256, 78527, 134244, 193133, 278338, 268772, 108883, 231898, 272379, 236629, 138587, 80179, 192303, 119463, 255425, 298608, 296140, 15928, 138909, 245338, 94722, 75161, 81801, 297159, 298375, 272941, 262133, 216992, 162639, 259814, 279314, 256453, 259504, 210641, 224642, 138635, 143586, 50320, 162767, 60139, 283258, 257597, 121928, 3805, 175606, 77763, 91346, 294111, 241861, 73010, 271156, 62942, 229113, 188695, 200977, 59307, 27896, 271478, 4568, 66357, 182737, 32848, 53225, 195302, 218469, 187826, 52178, 169245, 105567, 199505, 56692, 202733, 220565, 44455, 127104, 97293, 10005, 201060, 67916, 193062, 200838, 170839, 102395, 142582, 244253, 211304, 23433, 66124, 27833, 73817, 175740, 224099, 88706, 74019, 22275, 231442, 3539, 55031, 72858, 22593, 289985, 117042, 39444, 244730, 231090, 154154, 73317, 72822, 109962, 261982, 69165, 171509, 2423, 238593, 65402, 160654, 237926, 85905, 120256, 116170, 155182, 174424, 64728, 148557, 66405, 71438, 99297, 157693, 176232, 108777, 194371, 9591, 25361, 112291, 283890, 133050, 188116, 60064, 43232, 273704, 117006, 176015, 174674, 247993, 142209, 10537, 95165, 289412, 34575, 269660, 293781, 195258, 220031, 5365, 297593, 165580, 223383, 113539, 197548, 223799, 64479, 98132, 2869, 40763, 112362, 247650, 266932, 217371, 90689, 295426, 297191, 57657, 155991, 244127, 124408, 5012, 88260, 254890, 294781, 20737, 45150, 209398, 61384, 12446, 2161, 210254, 109382, 166897, 188351, 235012, 170358, 44038, 209030, 203014, 52974, 1554, 12669, 143686, 253196, 163419, 275716, 205445, 232480, 117950, 12228, 53821, 507, 241136, 22153, 160579, 85417, 184855, 171341, 31668, 95997, 184046, 244662, 35168, 287768, 269717, 137400, 53299, 200726, 204914, 2991, 226397, 209060, 214950, 203419, 67055, 51053, 239198, 204401, 291110, 114327, 100719, 237502, 282354, 15017, 259626, 188493, 19430, 223459, 13319, 286986, 213588, 210211, 293100, 273462, 586, 251761, 145386, 61502, 72530, 272578, 240271, 141330, 283335, 268838, 293840, 217782, 31734, 8962, 210277, 9535, 206567, 5677, 73086, 65252, 228366, 37654, 272823, 69970, 74310, 72180, 98716, 258628, 236897, 145428, 281098, 238517, 163611, 100436, 25660, 245061, 15020, 267431, 293290, 268269, 5430, 172071, 61306, 241846, 126641, 96199, 76925, 230776, 259254, 255260, 99799, 86972, 21273, 84669, 15701, 164575, 77621, 248908, 92758, 231118, 150509, 189979, 216502, 150915, 21546, 188795, 182964, 138415, 191024, 86220, 240651, 191799, 216854, 139836, 128491, 6421, 71111, 42743, 95418, 297145, 282417, 273421, 255911, 213242, 150331, 12232, 95776, 166200, 54902, 247658, 253171, 81091, 163138, 283452, 180463, 148976, 118491, 118671, 197209, 260986, 272568, 111417, 78211, 40886, 89979, 273441, 134446, 254717, 89316, 272789, 255764, 173241, 227482, 294718, 38959, 207528, 226469, 63597, 53340, 163825, 86498, 261762, 169930, 184555, 269415, 208286, 62142, 169630, 184774, 1264, 269074, 47190, 150866, 71788, 292945, 37809, 75626, 28177, 239089, 52862, 37165, 190929, 146293, 105107, 25397, 171472, 66739, 67311, 161568, 192610, 74705, 239625, 190385, 74098, 95489, 196787, 255122, 247797, 61066, 210434, 6324, 134090, 244984, 192200, 97646, 65711, 259154, 200179, 35253, 153013, 22792, 156007, 79383, 73829, 236894, 237632, 259594, 61681, 271429, 185792, 47826, 216509, 55774, 221782, 196038, 44768, 298144, 38586, 152978, 284926, 123040, 114825, 221363, 278484, 115232, 96963, 7654, 2222, 164858, 109524, 13546, 217917, 201471, 293735, 233261, 41556, 192356, 210609, 265911, 30924, 169315, 163402, 194657, 126861, 228765, 146000, 273540, 223139, 295161, 71859, 46098, 208305, 90913, 221415, 116795, 220167, 117200, 202406, 166809, 104919, 91206, 143051, 84693, 84928, 205835, 103526, 296, 46858, 200526, 182684, 139863, 66466, 246125, 238910, 92615, 24204, 268346, 109578, 165651, 207330, 187467, 25778, 204016, 118398, 14438, 226328, 238058, 106365, 286075, 2776, 245629, 248419, 205915, 129731, 252128, 34941, 267654, 148511, 97022, 138012, 156270, 272598, 275627, 298291, 211038, 42193, 127910, 255245, 237973, 41638, 23735, 23183, 237158, 284883, 292904, 30968, 186997, 68262, 279444, 71474, 156551, 109548, 51934, 21724, 217002, 214613, 65067, 82514, 183456, 48553, 113181, 17235, 147749, 191700, 293136, 147482, 277818, 232773, 213939, 559, 30235, 233250, 218113, 40006, 291570, 288259, 110193, 184430, 98532, 176609, 267622, 263885, 116710, 239303, 215691, 235508, 133256, 195317, 280732, 283378, 58054, 47624, 182708, 24393, 275250, 95097, 6814, 9498, 5628, 67570, 251020, 34870, 171280, 219089, 73319, 97710, 276729, 204394, 69916, 246200, 85370, 156573, 43217, 275367, 90319, 71837, 268077, 263371, 44208, 43440, 284130, 190537, 271953, 109254, 160578, 118581, 22371, 276293, 221136, 124764, 67766, 251189, 150997, 31638, 87270, 200209, 228223, 227054, 213551, 125700, 267704, 98244, 71325, 229874, 122817, 256189, 243531, 294604, 228537, 257119, 287018, 242103, 21955, 144386, 145467, 280435, 133132, 265984, 144721, 83081, 197874, 5362, 38144, 78495, 110969, 256218, 97137, 52314, 63977, 105020, 17741, 21547, 247891, 196420, 35423, 157034, 266850, 53847, 127798, 142136, 14888, 117901, 132919, 252019, 210959, 259658, 245738, 95468, 24922, 261600, 199004, 92365, 157441, 171059, 275932, 72018, 123781, 55068, 84354, 240119, 133433, 102998, 73799, 84511, 181111, 245947, 240324, 218132, 227217, 212380, 69542, 293476, 73837, 181535, 23064, 118838, 209777, 30255, 68469, 207110, 97902, 204354, 8469, 156569, 248903, 109592, 162015, 115866, 284402, 290, 292868, 103370, 217325, 170305, 179045, 92578, 61532, 268392, 244617, 209979, 156304, 20666, 108319, 162103, 87975, 27445, 100576, 70375, 258604, 228394, 127562, 288314, 150826, 244523, 171326, 44957, 266180, 215683, 80330, 8648, 20634, 252770, 191621, 15306, 163523, 13251, 78328, 829, 74889, 152854, 273755, 231135, 100776, 276441, 287312, 56078, 152529, 210560, 161601, 249233, 38846, 88779, 151236, 215719, 251604, 50424, 50736, 202015, 25297, 170203, 122936, 99090, 276827, 272313, 244288, 24356, 233064, 238881, 148986, 172228, 1708, 14880, 127600, 52157, 173746, 285545, 115760, 65127, 224745, 226850, 74887, 231059, 117292, 118326, 228679, 3414, 222464, 99452, 266894, 190496, 58809, 116290, 132955, 118907, 211395, 276846, 99129, 169090, 24414, 181483, 247081, 204723, 25709, 151603, 74728, 59509, 296159, 120212, 73211, 98158, 41099, 78437, 113537, 202945, 155880, 210845, 121039, 73955, 188652, 194973, 169087, 147529, 272302, 236196, 121024, 260119, 291008, 212320, 251164, 1263, 70936, 244281, 15674, 127524, 152623, 178447, 209141, 147269, 269230, 170694, 246617, 137888, 270193, 277582, 168875, 193389, 154485, 84261, 228888, 173622, 193668, 166642, 28801, 232491, 231662, 55174, 293785, 272180, 213120, 9525, 247791, 167457, 145265, 67427, 194948, 128598, 281779, 168818, 6195, 143189, 129323, 117378, 9095, 264330, 170949, 45812, 201196, 23127, 6198, 127362, 184249, 264966, 144478, 228061, 20443, 58258, 134932, 242346, 163152, 160421, 190202, 296469, 111236, 268842, 73380, 128142, 152356, 573, 228505, 119917, 65941, 202210, 217648, 206712, 184628, 267271, 267626, 281861, 38413, 117087, 226136, 164996, 292887, 44564, 34248, 151582, 42199, 65206, 25372, 230846, 254752, 189206, 136963, 139638, 23603, 216732, 54269, 95230, 259306, 282539, 11177, 169829, 293746, 250702, 43043, 73981, 117924, 216989, 197479, 12073, 200310, 229351, 209673, 153855, 217539, 225166, 241545, 234726, 1286, 111824, 34422, 30095, 104895, 63318, 114906, 264114, 73282, 65897, 33185, 65074, 73767, 239797, 21134, 165251, 289322, 116950, 166511, 177434, 212812, 233090, 183828, 211617, 157331, 96651, 226624, 15194, 277622, 295819, 173627, 166012, 125284, 297299, 267463, 288010, 143552, 164027, 224864, 261068, 228890, 283975, 123007, 56480, 295938, 12784, 57805, 92099, 165697, 94568, 124638, 33643, 22410, 221491, 192257, 272768, 270317, 84648, 94846, 64778, 143998, 33451, 6490, 95311, 215413, 186540, 264119, 232759, 225497, 251979, 247643, 266310, 205227, 9755, 274664, 291696, 77627, 56498, 268837, 221410, 254798, 252922, 146856, 202195, 69394, 267067, 164964, 88559, 24241, 170317, 273922, 266190, 160576, 201804, 257435, 218283, 145838, 157494, 172566, 247995, 299243, 209032, 127492, 73596, 175494, 212996, 228477, 182804, 128535, 236774, 92455, 8308, 221183, 161251, 157257, 4526, 176960, 287026, 50509, 176237, 76778, 110031, 220520, 297956, 203080, 294313, 167935, 23552, 16033, 137384, 146940, 160493, 112307, 98889, 53406, 143427, 73899, 226040, 238781, 85778, 297927, 61484, 67535, 236760, 247559, 221719, 117343, 272748, 155415, 1671, 298716, 287466, 208926, 227631, 89475, 232969, 51164, 90807, 96639, 295480, 129143, 198694, 51977, 230326, 234778, 91113, 189683, 123663, 108867, 29340, 72821, 5239, 772, 154267, 207886, 74673, 290386, 58498, 211756, 173355, 135192, 148447, 22125, 3229, 165750, 296607, 208493, 45243, 39281, 101091, 94262, 69180, 204902, 170293, 178124, 25737, 285155, 211778, 274788, 211173, 57756, 117632, 253016, 233344, 47528, 268025, 232484, 120147, 275181, 120749, 23590, 166004, 176365, 214914, 74741, 192749, 56577, 249672, 117291, 293243, 53394, 275916, 67172, 104572, 256627, 168129, 207229, 254164, 196006, 126430, 232434, 293600, 268704, 140269, 69644, 270026, 263876, 104088, 292587, 86780, 22032, 138067, 101752, 210048, 175644, 126577, 103864, 293886, 276775, 183710, 294316, 285946, 84952, 145120, 215364, 204583, 211624, 169372, 114013, 118809, 230242, 260072, 86583, 56055, 191665, 123674, 166019, 201030, 64002, 156683, 116009, 66605, 64550, 33917, 173029, 73714, 297330, 287269, 209062, 194992, 156181, 249320, 103746, 200163, 234675, 195256, 61771, 66937, 282796, 295502, 111216, 86479, 45650, 241592, 53804, 156250, 189187, 208260, 113310, 215705, 37393, 240994, 211530, 253613, 297334, 113926, 217497, 15833, 226192, 31912, 240749, 256976, 101621, 19117, 9205, 58936, 281276, 257788, 133540, 60863, 73522, 227898, 20686, 20984, 170387, 215445, 45916, 185913, 261759, 77989, 137651, 205881, 253791, 190109, 256007, 170022, 199937, 73883, 52345, 190793, 175749, 132253, 94489, 273796, 115826, 101826, 237128, 147007, 247665, 267711, 32847, 147326, 115441, 216804, 22541, 32258, 256178, 298671, 93583, 275826, 119421, 222027, 58933, 95555, 292899, 148381, 297772, 265508, 220539, 20952, 244641, 265743, 212031, 261078, 246648, 11479, 99081, 60371, 259895, 8616, 174125, 298852, 126371, 106400, 105117, 29900, 241099, 272281, 8667, 264777, 182427, 270947, 253610, 201484, 135452, 95110, 164081, 35543, 24109, 214244, 55592, 237381, 44893, 152013, 62621, 192989, 275417, 216168, 264156, 283400, 198955, 246220, 32327, 283371, 173022, 172656, 294156, 258830, 55446, 233076, 241990, 268840, 268682, 283538, 183517, 171486, 184085, 240187, 263330, 297329, 86684, 85293, 185575, 8266, 85615, 75142, 163290, 66990, 272707, 286551, 100965, 13345, 163056, 294101, 52313, 134009, 58377, 189903, 23241, 246208, 73806, 70920, 275351, 1948, 287695, 139588, 35881, 101630, 116296, 210952, 103339, 236701, 284487, 291666, 203426, 242382, 272360, 44164, 94257, 218705, 84373, 15893, 118946, 248865, 208437, 81011, 78551, 244294, 157545, 23282, 177487, 269121, 174482, 203385, 261021, 110437, 3789, 27976, 38850, 187943, 75166, 94071, 151521, 236969, 95794, 293145, 52303, 298518, 180338, 174470, 57083, 40634, 295308, 95058, 174064, 84055, 296561, 103551, 158917, 293810, 202641, 16436, 78426, 241138, 74698, 126540, 98835, 6159, 125406, 227444, 50102, 83681, 16274, 58902, 263447, 57134, 65109, 226526, 245023, 139810, 264625, 9920, 212131, 55738, 16733, 297484, 127098, 15667, 281786, 149830, 47056, 2127, 5498, 143031, 286638, 6173, 11150, 266583, 299246, 269168, 158737, 163725, 95579, 103463, 82777, 140577, 139494, 102629, 9652, 245794, 251125, 95019, 237982, 9669, 168541, 59931, 180000, 79456, 266966, 67725, 62918, 258457, 219651, 72783, 57313, 196028, 151524, 52774, 295473, 51979, 177381, 275827, 275930, 241973, 117072, 232681, 33506, 84187, 260055, 96098, 72360, 183021, 39125, 46109, 35984, 269963, 137748, 40078, 53059, 287543, 15463, 74851, 227648, 273404, 222758, 191272, 120051, 245014, 286065, 119151, 177864, 268400, 87123, 210356, 33911, 232036, 234276, 43698, 107359, 61756, 205168, 64606, 143633, 71367, 268246, 266494, 179514, 236392, 67376, 158174, 138901, 127753, 279150, 74730, 29522, 88215, 115566, 82342, 115853, 220963, 8346, 15277, 293241, 61712, 213767, 117983, 91634, 87021, 148940, 3287, 269673, 171953, 48300, 67909, 221812, 103937, 265528, 183292, 186666, 160454, 188407, 117208, 4876, 16714, 52682, 75693, 254392, 146174, 37186, 243032, 112158, 171990, 164216, 151646, 55878, 78083, 274860, 194042, 128871, 125394, 76130, 197581, 24053, 44161, 24560, 207189, 110281, 143553, 118336, 279631, 214750, 116317, 249189, 235911, 172621, 66649, 66490, 103871, 48532, 86137, 66390, 40442, 263257, 137804, 8237, 97535, 226090, 287281, 228937, 116153, 271172, 193776, 276676, 210536, 226437, 137289, 172960, 44872, 116617, 265904, 261370, 258269, 96176, 37599, 226732, 233420, 35306, 67853, 275546, 189906, 59718, 220422, 258217, 160833, 294254, 239545, 121442, 269184, 118117, 164163, 5900, 63745, 210692, 129671, 214301, 172205, 287477, 231852, 22307, 78236, 206763, 182046, 81944, 270131, 32751, 286438, 66139, 110034, 53295, 12710, 35647, 268851, 224133, 283383, 115078, 174192, 185723, 266049, 265531, 169726, 138823, 230283, 247563, 289230, 261637, 157518, 284848, 81685, 136668, 211404, 235479, 125656, 283316, 196515, 158160, 206377, 11676, 83952, 181162, 108489, 41971, 246469, 224708, 61427, 38401, 229301, 75059, 191060, 168527, 131766, 240745, 199590, 187599, 124108, 240195, 74609, 18803, 222196, 77039, 79851, 286231, 277141, 181204, 14145, 228100, 210571, 279399, 216492, 57169, 117915, 164031, 40819, 117086, 805, 260715, 64609, 29890, 289971, 226433, 3311, 106116, 13999, 47937, 34278, 204565, 39111, 273579, 171721, 251518, 226699, 186117, 27490, 224430, 160281, 180367, 95729, 53691, 270563, 76553, 124189, 121877, 89705, 187886, 89720, 186407, 188357, 100956, 21135, 276148, 239116, 84779, 237618, 197738, 175221, 168222, 66239, 2179, 1188, 137593, 87508, 262740, 270892, 103016, 165349, 25639, 154146, 298414, 22581, 180200, 163854, 72777, 293829, 52226, 256215, 97326, 184714, 118240, 229407, 8724, 250744, 24295, 62308, 78535, 5631, 79195, 151015, 140992, 260041, 85278, 149964, 102879, 166713, 144608, 74564, 105365, 186086, 198739, 169411, 90681, 227183, 1099, 99660, 261899, 112463, 162040, 297888, 276945, 105190, 202565, 280407, 185964, 62571, 295839, 7662, 42394, 116335, 115488, 240584, 71795, 73950, 251786, 22501, 230687, 236091, 9531, 61679, 54297, 42924, 120433, 121006, 3535, 275075, 144886, 244668, 221039, 73150, 48319, 12145, 264329, 252122, 263050, 178017, 55478, 3286, 162549, 161671, 124909, 24657, 256241, 263850, 208293, 134918, 210433, 14569, 111859, 98380, 85115, 214709, 185379, 52586, 168310, 12255, 160491, 88491, 5317, 256941, 228114, 22902, 127574, 116054, 66624, 228217, 235228, 45252, 204267, 200597, 56270, 267475, 223033, 181202, 271885, 167978, 8534, 294261, 197974, 90285, 237587, 58710, 245787, 230096, 224762, 111714, 187020, 145581, 168202, 197447, 217241, 142339, 245729, 273120, 194782, 35396, 226920, 135761, 190557, 178394, 39199, 277786, 44886, 88057, 73719, 46814, 12935, 233596, 85154, 290792, 16467, 199678, 268200, 111133, 214697, 64638, 106883, 285131, 184082, 247353, 74616, 8929, 121049, 111606, 76347, 276513, 101799, 79040, 221358, 93796, 93749, 240457, 149137, 154606, 99824, 25275, 24468, 208404, 101440, 234206, 211459, 78534, 233232, 109725, 101978, 282673, 86598, 137607, 163505, 18520, 292938, 283624, 294602, 160522, 66195, 15224, 266159, 20747, 274695, 126480, 95178, 212172, 209619, 113143, 239955, 41399, 80961, 226182, 114112, 257841, 56221, 220073, 75007, 263404, 270117, 99527, 133112, 195928, 294090, 5852, 41713, 28917, 110276, 21499, 74438, 238896, 111975, 216140, 108997, 148083, 221256, 211841, 70306, 5462, 142129, 253773, 86020, 171569, 240060, 266694, 235124, 25195, 223102, 74682, 31039, 42625, 118164, 117990, 36994, 79893, 102091, 211248, 249170, 22341, 25481, 61001, 93093, 84772, 275285, 82003, 273898, 67182, 104268, 28194, 207320, 246262, 269382, 157359, 87620, 243672, 72641, 226118, 235131, 102705, 102992, 11784, 49900, 104603, 52861, 129291, 95262, 206208, 294170, 48670, 189032, 173538, 91778, 117613, 247903, 137710, 293898, 60569, 65357, 116129, 162484, 4817, 22669, 235355, 112098, 53130, 121320, 79781, 281676, 271503, 39393, 169103, 42572, 263626, 230498, 262556, 208058, 297608, 240989, 239146, 83419, 174025, 247174, 293857, 287508, 206486, 186646, 122862, 264945, 33243, 4113, 109764, 62532, 158846, 81219, 195615, 259113, 103354, 164859, 61414, 214577, 199941, 102450, 256213, 119656, 227364, 72362, 187539, 16023, 226801, 276219, 33762, 208741, 166570, 73371, 36033, 102312, 273123, 221711, 211588, 79284, 216383, 272992, 213383, 117677, 3166, 208799, 172903, 116513, 34933, 43543, 161229, 104356, 240052, 121418, 221961, 103507, 16275, 3771, 24330, 7713, 175680, 102233, 111394, 130921, 111352, 64677, 16876, 221129, 83930, 186353, 87575, 18111, 32735, 87418, 12715, 202690, 53920, 74245, 189407, 95150, 257440, 15024, 63792, 34795, 259811, 266344, 246302, 34220, 94314, 114824, 54847, 169905, 65613, 228054, 88231, 209524, 88521, 64470, 292880, 247004, 268054, 23956, 256693, 275313, 240662, 164576, 6615, 23799, 2054, 198736, 108388, 201667, 63542, 115277, 51108, 296081, 17187, 202337, 163416, 46160, 120895, 63909, 67396, 51131, 237870, 259460, 147569, 267548, 230537, 94120, 208909, 82234, 173482, 35797, 64836, 38709, 209021, 95306, 163943, 149683, 216797, 52116, 33259, 190350, 8869, 67169, 229495, 66173, 95693, 284587, 247558, 256454, 185973, 116395, 157185, 56683, 40589, 227042, 126007, 195904, 9240, 146621, 171963, 191492, 278048, 220815, 161488, 117862, 200237, 72419, 284533, 241081, 295686, 57189, 13483, 170114, 267075, 160791, 198999, 245716, 84603, 228428, 165282, 30186, 33240, 210824, 201244, 185632, 268536, 118085, 185384, 145169, 2274, 121140, 24359, 268133, 57279, 37070, 94352, 244978, 266084, 91998, 195074, 244657, 163022, 256198, 125816, 244422, 174554, 289187, 169975, 293668, 171811, 84823, 174268, 208056, 245650, 70991, 210195, 285610, 170172, 254287, 283999, 212071, 193815, 3804, 1829, 114979, 265902, 24245, 266718, 189816, 28951, 174366, 93220, 190053, 78334, 65280, 264645, 193603, 106704, 115880, 174255, 135167, 240338, 260162, 73752, 242902, 258581, 215078, 1002, 97238, 200841, 218973, 298988, 154563, 294439, 150604, 94458, 147067, 245264, 276270, 24992, 129515, 164115, 175828, 209821, 295987, 84900, 102949, 165430, 45262, 61126, 197688, 278296, 124997, 155817, 15763, 241544, 252420, 188387, 130153, 161369, 74952, 162201, 113530, 37979, 274709, 220555, 250671, 225615, 91822, 283971, 73778, 294774, 199231, 9331, 253138, 50423, 234243, 288624, 150117, 16813, 87479, 148407, 245812, 262494, 239888, 262842, 193483, 188439, 13590, 226058, 247572, 257971, 189760, 13625, 115010, 286970, 77166, 23861, 32965, 214394, 178999, 20966, 149837, 246933, 148401, 241662, 92509, 198814, 256195, 86600, 178032, 110729, 227741, 268458, 147955, 297213, 7834, 207337, 212173, 170713, 187175, 175247, 126470, 19234, 293309, 161377, 74701, 53138, 247267, 74624, 112775, 152283, 143, 286343, 43026, 127980, 57610, 237544, 116746, 267502, 171180, 232203, 192670, 210962, 10491, 24440, 104868, 256383, 90160, 168924, 81135, 223031, 227063, 137688, 15606, 131448, 19895, 218149, 36498, 268756, 229397, 55002, 3523, 201723, 279909, 75429, 297590, 65008, 169781, 192072, 227891, 238708, 152990, 185336, 83428, 45288, 211862, 83244, 184891, 208288, 89003, 190798, 233316, 276170, 36818, 262375, 84378, 5120, 246232, 31354, 74937, 65650, 31920, 24654, 117294, 36948, 137121, 5448, 15883, 23701, 25731, 206591, 36942, 141451, 230705, 297742, 24216, 287750, 180045, 89224, 297982, 251431, 56558, 200128, 221729, 260103, 150574, 39511, 92355, 269209, 8995, 116173, 105267, 43529, 36178, 41499, 75125, 80398, 247691, 30183, 78525, 275621, 103318, 145131, 268442, 205925, 166538, 93523, 217621, 111532, 5103, 18127, 28522, 189485, 197462, 52434, 264776, 85548, 275542, 265974, 64839, 110726, 170379, 127801, 166431, 181327, 273122, 277979, 140472, 193630, 69099, 224405, 98321, 15332, 294940, 74589, 298949, 253185, 119440, 220277, 230614, 200396, 240609, 80745, 9051, 202948, 293108, 147886, 160991, 20996, 103384, 32546, 197737, 183113, 145774, 143154, 246586, 20291, 159603, 232806, 84421, 111297, 17845, 77299, 232164, 247874, 147541, 226936, 216497, 109518, 74963, 235037, 84721, 228150, 252974, 176583, 255294, 293472, 238283, 210857, 149847, 77996, 249293, 169956, 57419, 186810, 91110, 57228, 164464, 185175, 247390, 231164, 289880, 247771, 162539, 275934, 65288, 197560, 162367, 78542, 242467, 165941, 82338, 211313, 82716, 240207, 146504, 267081, 124569, 44609, 295174, 275486, 63187, 161582, 271224, 6703, 182891, 278572, 107639, 19345, 56428, 77197, 260802, 279531, 174654, 166944, 196589, 40131, 156078, 71617, 121861, 38425, 282286, 241027, 244522, 111208, 209731, 116616, 174256, 92765, 22456, 190809, 236880, 65351, 9637, 251258, 196516, 288997, 216102, 197603, 185803, 244757, 288006, 75158, 20579, 105669, 289218, 286369, 226302, 242042, 52248, 207631, 40274, 278358, 139204, 128669, 145910, 200141, 23130, 144581, 54526, 63495, 292946, 174107, 64485, 270092, 29519, 21272, 157861, 287788, 134927, 284940, 147550, 126932, 124963, 110780, 249968, 232442, 66931, 153876, 215040, 17571, 243030, 83923, 131809, 255574, 260977, 96871, 154707, 34110, 212270, 227635, 169457, 23571, 64022, 115151, 119047, 72582, 253013, 111962, 83155, 217097, 17432, 183687, 60049, 20368, 134215, 243263, 169604, 19956, 113541, 136064, 218441, 145566, 97134, 50966, 43756, 72784, 71064, 247245, 178147, 164718, 273682, 61499, 75019, 22521, 60907, 233154, 202517, 284029, 93163, 194176, 16549, 280647, 126827, 16810, 228566, 289120, 30205, 24020, 90412, 14488, 272649, 162253, 117041, 227419, 33608, 87373, 244721, 34647, 212182, 52320, 236621, 287507, 93252, 221674, 206471, 24024, 161947, 75182, 228045, 238529, 233164, 219763, 131710, 244717, 283517, 86348, 73977, 117564, 168871, 267624, 216933, 42541, 269159, 104537, 137861, 67303, 260601, 95145, 152964, 63729, 55085, 168311, 70830, 58635, 195154, 297761, 229247, 246663, 15753, 188925, 135122, 198241, 298132, 200919, 296919, 119753, 104251, 114282, 279482, 76697, 209167, 286952, 197870, 140778, 134137, 165834, 258782, 293787, 199700, 244882, 63532, 141523, 191526, 52534, 260294, 246937, 11684, 153469, 73276, 275289, 32993, 271449, 40293, 191439, 81235, 61535, 48032, 152036, 131837, 268989, 234714, 213151, 116674, 186109, 73499, 272329, 23461, 83864, 201153, 268806, 75120, 259863, 20140, 275230, 82263, 282553, 278203, 110641, 86152, 209765, 220261, 267166, 240482, 182120, 167328, 77969, 55286, 156004, 96056, 209103, 180977, 21281, 130083, 277799, 22587, 163257, 218309, 293868, 267248, 293451, 185387, 201840, 217779, 157062, 250435, 63616, 163442, 260400, 189, 268987, 219487, 148650, 172748, 47980, 108266, 264990, 24080, 102700, 165866, 67207, 192187, 203377, 199144, 15409, 73110, 71193, 198475, 219106, 116338, 166747, 103747, 49685, 251215, 132488, 285831, 184132, 2104, 18674, 232149, 295876, 14717, 234566, 83767, 148496, 204976, 52251, 291963, 172465, 211832, 235771, 177685, 73938, 210446, 165127, 172193, 220467, 191478, 275049, 98948, 212143, 82814, 169688, 98785, 90788, 277145, 50716, 109947, 240484, 266470, 137595, 247151, 107038, 119687, 273499, 207213, 275748, 140434, 214363, 92665, 157340, 4479, 24985, 90379, 230689, 292716, 168292, 95308, 113968, 239802, 132771, 232254, 184349, 193349, 252901, 54113, 9772, 248227, 228196, 282068, 84777, 2204, 218303, 267924, 278050, 172795, 223746, 246484, 81970, 184369, 121401, 25074, 1558, 280610, 115186, 78572, 129239, 228654, 52653, 24345, 255258, 202583, 256091, 73273, 95409, 298585, 104801, 248168, 122679, 116161, 246142, 212386, 112031, 166936, 96752, 101715, 182521, 46116, 95072, 261096, 55393, 188901, 45082, 161381, 84262, 216062, 246960, 32025, 210353, 184416, 13561, 32657, 257799, 94760, 109738, 210568, 65432, 294845, 176715, 61327, 221118, 162275, 237061, 27051, 96086, 210478, 213769, 206472, 22766, 274237, 83721, 229013, 191469, 48050, 27942, 252342, 253271, 204765, 85229, 15881, 242762, 63058, 70215, 3285, 252260, 144044, 232046, 274658, 152571, 35273, 142045, 137773, 205265, 76107, 266982, 254335, 15960, 246394, 257030, 118468, 3686, 110135, 33013, 233161, 298482, 51061, 136236, 192500, 14003, 110489, 82732, 275492, 268748, 108723, 25719, 49754, 27, 166614, 238157, 91370, 268095, 2716, 118282, 15073, 171903, 84146, 14229, 52074, 91709, 46659, 258224, 286774, 90017, 52322, 42821, 218412, 8320, 115409, 285572, 259040, 94294, 169980, 257042, 295779, 9739, 260752, 121596, 212958, 29354, 273926, 136574, 59074, 129442, 195281, 208959, 84339, 124213, 142240, 104612, 8660, 196289, 294624, 100986, 162822, 15959, 102857, 205661, 2832, 91343, 179362, 266176, 213553, 73722, 29677, 75185, 70657, 252798, 239302, 247547, 90145, 275862, 252005, 198414, 172630, 78041, 6818, 221591, 137261, 146243, 31162, 9719, 231016, 139522, 64112, 171966, 118992, 254523, 180177, 295294, 273826, 44152, 22290, 144030, 136434, 42351, 127907, 138042, 295805, 217540, 277129, 292523, 142915, 93814, 269987, 64314, 187083, 97284, 271875, 175850, 229002, 150312, 2698, 220130, 111530, 13423, 58716, 105699, 6160, 207389, 234864, 234666, 256155, 181722, 148479, 62382, 45927, 66130, 275888, 116545, 243354, 266847, 42251, 259410, 97011, 262881, 2544, 189648, 149477, 232035, 131661, 66090, 168674, 186012, 95321, 208290, 283640, 44792, 208781, 95960, 183399, 54275, 80636, 196169, 152517, 277861, 83497, 95616, 280593, 116702, 30370, 54654, 203589, 271592, 3908, 12485, 294048, 189056, 268580, 6867, 247562, 198753, 171616, 256141, 23176, 167199, 107423, 106989, 182147, 94755, 56861, 297291, 23042, 287226, 31886, 49684, 216319, 265671, 71552, 65441, 183688, 261974, 197587, 228677, 295692, 18957, 86451, 147183, 83630, 31813, 84732, 113519, 293696, 294214, 120220, 83286, 56822, 232025, 259159, 254361, 210109, 126826, 43071, 117898, 89148, 117942, 260628, 65689, 297617, 227752, 18738, 136446, 169633, 218300, 187634, 135701, 88731, 33063, 115506, 233888, 285018, 251889, 55580, 15858, 271034, 269120, 275530, 40291, 137018, 171405, 48739, 262520, 165289, 12998, 17209, 72210, 264978, 4770, 159573, 45106, 33532, 145114, 14883, 74565, 88807, 32101, 89692, 172615, 125801, 294541, 172419, 68569, 154246, 226399, 16032, 259728, 266771, 184924, 279673, 110548, 259956, 237940, 190144, 13666, 172684, 287870, 133700, 228973, 173626, 70746, 122343, 20707, 147621, 72341, 260786, 6851, 202169, 117678, 29699, 144133, 229976, 126981, 73684, 57217, 219851, 13157, 94328, 240485, 110044, 194406, 217752, 222511, 209692, 195618, 26342, 59908, 84172, 144408, 2483, 215992, 15196, 266666, 64391, 244418, 247152, 233791, 188975, 105372, 115878, 52348, 77950, 95332, 190092, 157350, 262422, 25500, 200562, 92759, 38054, 50893, 24400, 45756, 85971, 188675, 272935, 229778, 225799, 9453, 207826, 48433, 206006, 117665, 6094, 35571, 153289, 217498, 65845, 234735, 268444, 252652, 111622, 58724, 226066, 67852, 147182, 36967, 289363, 44187, 183627, 226109, 88277, 39180, 159611, 78377, 116361, 184653, 159629, 209917, 98816, 165381, 219898, 164668, 284025, 163835, 134454, 71621, 157348, 250838, 298896, 259041, 5513, 140673, 184927, 175540, 78626, 268616, 8576, 172090, 55321, 63680, 259662, 102288, 162236, 112403, 120885, 52731, 33229, 165796, 231525, 157565, 234786, 233439, 212447, 183023, 87891, 14687, 150310, 133891, 84085, 166910, 76427, 128014, 71807, 44367, 196454, 256284, 58147, 117900, 77606, 273032, 41874, 226152, 137328, 113897, 20546, 73674, 218755, 61667, 280291, 70819, 149025, 299094, 259623, 163839, 250538, 196979, 187341, 251381, 133097, 189399, 74039, 160436, 190792, 251796, 78708, 276152, 184925, 163645, 62674, 118086, 273695, 292548, 186286, 165413, 168337, 234629, 268307, 219218, 236657, 233109, 92449, 159663, 29610, 60429, 291228, 233847, 59964, 47759, 172095, 125663, 154968, 251586, 122784, 114717, 88490, 148184, 230799, 80866, 26259, 98280, 71218, 168179, 95765, 132540, 272025, 267507, 288896, 74490, 133330, 111634, 97701, 268658, 43059, 151339, 18465, 275838, 247023, 116422, 146479, 282324, 255579, 55390, 299073, 260489, 13138, 227558, 265194, 256370, 50457, 205323, 15941, 142887, 257833, 229523, 261538, 79492, 75151, 135157, 236002, 35228, 203412, 16118, 277315, 235551, 86718, 121833, 98579, 272671, 67409, 257466, 208174, 117513, 297354, 258270, 245661, 41145, 73519, 125864, 63272, 229202, 283513, 163838, 207598, 186072, 103467, 235461, 202931, 139629, 191668, 243010, 97852, 176485, 227279, 189405, 74473, 77464, 246256, 85062, 112292, 252464, 25718, 172042, 174429, 73402, 9688, 121631, 219171, 153438, 73180, 289543, 32027, 122567, 269285, 91099, 218027, 23962, 81193, 67782, 43596, 150101, 50567, 137302, 184479, 155035, 295722, 176083, 195970, 126085, 128245, 118199, 216639, 68692, 611, 92842, 204561, 3806, 10074, 219787, 25725, 117920, 59349, 136524, 133236, 279372, 170668, 296739, 73419, 246324, 0, 78227, 218655, 271693, 35516, 189107, 248902, 11432, 180359, 152953, 103668, 103438, 271261, 238958, 194880, 280108, 266267, 187829, 185967, 88054, 66544, 252690, 201761, 13325, 64552, 174057, 31502, 154695, 124623, 106547, 85455, 45513, 55873, 106688, 102284, 81826, 63380, 191672, 172488, 127232, 22826, 219095, 126982, 238591, 15046, 15107, 77128, 286874, 265206, 169600, 247128, 174504, 64853, 160879, 184608, 215776, 77686, 252611, 564, 166741, 197853, 274632, 9369, 21140, 75375, 207620, 194507, 229066, 263510, 58170, 279092, 140021, 32909, 35521, 187340, 216054, 163076, 141954, 219746, 257990, 75162, 54831, 38912, 67423, 187088, 274477, 235654, 248492, 135904, 15708, 241432, 70576, 91252, 22366, 198800, 202041, 163371, 109309, 297802, 272856, 59648, 88921, 202588, 210493, 241988, 33136, 223410, 208550, 70031, 137706, 266431, 59039, 172328, 285883, 265453, 226634, 88638, 15208, 276124, 82638, 298304, 236447, 119995, 136203, 93495, 101244, 181981, 266126, 275654, 16471, 222688, 210891, 65237, 133939, 191874, 103706, 294389, 25343, 30784, 14475, 256462, 239633, 69941, 74356, 227200, 32207, 73608, 101894, 125916, 230701, 150755, 87752, 90065, 79644, 203529, 101939, 94797, 287001, 39566, 137039, 124922, 2704, 179341, 143012, 285294, 202194, 238314, 112807, 266810, 236571, 236441, 264569, 294074, 268331, 52418, 21307, 45635, 44342, 135175, 9167, 155065, 298159, 193979, 34668, 229417, 279929, 227204, 229366, 131785, 273919, 1792, 26568, 244365, 89195, 63209, 217369, 212551, 146638, 220533, 201499, 234393, 170719, 172499, 277486, 32708, 293444, 170664, 251739, 175228, 16423, 297380, 115183, 99510, 268785, 191176, 266484, 197356, 76775, 226646, 145595, 154509, 3782, 211899, 190020, 274110, 72943, 52470, 56994, 170883, 210721, 256285, 63879, 144194, 34909, 82272, 219298, 85817, 83813, 72654, 297276, 278751, 177871, 181988, 21418, 230838, 217643, 202327, 276012, 25298, 200014, 275208, 125552, 104575, 2515, 42684, 221272, 117381, 154102, 99939, 13248, 65268, 119883, 30570, 33303, 116575, 208958, 228616, 89314, 211645, 148153, 8993, 74771, 89772, 228243, 77555, 22110, 205178, 84115, 153785, 191785, 20787, 116692, 27321, 297092, 133703, 252807, 115180, 227428, 286067, 99578, 8856, 121762, 106202, 248247, 125177, 190727, 4490, 221386, 164854, 298328, 199933, 22882, 266940, 239098, 247156, 47581, 199440, 231144, 148573, 65398, 258282, 22175, 60407, 163635, 33480, 87785, 187441, 129392, 11162, 71969, 37781, 81692, 281601, 45221, 137852, 25418, 260841, 7362, 54863, 7140, 231507, 133233, 259653, 148890, 44228, 86489, 74239, 189059, 98332, 45781, 81273, 111393, 212245, 219304, 269044, 189409, 7819, 117734, 269503, 227721, 246887, 125718, 54362, 206809, 173, 19502, 167820, 50704, 69274, 31628, 15443, 89390, 244569, 79001, 162235, 178073, 291463, 151891, 194229, 173323, 127364, 210836, 277309, 152739, 210843, 122117, 222533, 3178, 150951, 67799, 237006, 240081, 213660, 261265, 65265, 21772, 278757, 137765, 144303, 232619, 167236, 227664, 262013, 173983, 45899, 50065, 160561, 88217, 116182, 54564, 248403, 91484, 152564, 143894, 64323, 108188, 246147, 169869, 297029, 295201, 36938, 52289, 71909, 116449, 196520, 161473, 42760, 190026, 172560, 115926, 57989, 198868, 221802, 192597, 236871, 44430, 147846, 173471, 199848, 247574, 196447, 1952, 51485, 297612, 215612, 191271, 176482, 264473, 157828, 59009, 2649, 2669, 51943, 233388, 189052, 128933, 121327, 104459, 34549, 15509, 183944, 92593, 250672, 57993, 211678, 258432, 167433, 66313, 229682, 145589, 73672, 23859, 206750, 54921, 74037, 103389, 65656, 243332, 102688, 216681, 87807, 196768, 79881, 160720, 35193, 274065, 246911, 265499, 90806, 210854, 220166, 226592, 233295, 92712, 67474, 43211, 114652, 95644, 185103, 221544, 259822, 183017, 72021, 23832, 189750, 116473, 195781, 42832, 298737, 278400, 127807, 8380, 218082, 223342, 200096, 172084, 184887, 69993, 192783, 138749, 227907, 89865, 288889, 52969, 256632, 208360, 297275, 84799, 125939, 121978, 287296, 18454, 92497, 95203, 197441, 171321, 248044, 217163, 221541, 161873, 269698, 293666, 44847, 247798, 171855, 68131, 272629, 39392, 165190, 173562, 184548, 230793, 8538, 171866, 116885, 103319, 51185, 92598, 219365, 42326, 43862, 71399, 125360, 214296, 121084, 244454, 3454, 68814, 2707, 182463, 230218, 272821, 48971, 217637, 215579, 43716, 144371, 170262, 258685, 55264, 16115, 92931, 239852, 44459, 149378, 14626, 17824, 233350, 174278, 286605, 66709, 116292, 266967, 205474, 148588, 169143, 185626, 584, 95047, 59676, 160763, 228479, 66444, 171740, 190047, 75292, 145980, 212419, 73642, 34792, 73322, 111578, 44092, 63962, 92467, 227157, 219382, 115504, 22331, 223235, 65950, 284957, 105713, 118759, 285909, 229453, 90396, 202512, 146076, 39705, 23230, 214202, 146672, 113407, 161442, 242043, 99136, 106831, 290562, 191290, 614, 143618, 150259, 57152, 168586, 138969, 19656, 38715, 92474, 153637, 196837, 88051, 73157, 229747, 281497, 213530, 106630, 90099, 218190, 37842, 2528, 235417, 86145, 171670, 250352, 43925, 291472, 44571, 82492, 260605, 298246, 110844, 37228, 245119, 116282, 175574, 78350, 25337, 220230, 261554, 229956, 182242, 232435, 237887, 264421, 70170, 187416, 173124, 116025, 70567, 64226, 73820, 155167, 199616, 271456, 174276, 44633, 186836, 289397, 216469, 41185, 256589, 106269, 268715, 23225, 14579, 104802, 298811, 10883, 210322, 24369, 15891, 58473, 117262, 31913, 14654, 264853, 194748, 228068, 240505, 257550, 2709, 156186, 143381, 246321, 66846, 5532, 87970, 197324, 121678, 131653, 161324, 266512, 163200, 162943, 295709, 208472, 242999, 116661, 233070, 229960, 130330, 52925, 67003, 87140, 198687, 95461, 283902, 45862, 34922, 119855, 212941, 8761, 56957, 189347, 211050, 35920, 273613, 18256, 73858, 16323, 238740, 187658, 115394, 174399, 271774, 95394, 224329, 185168, 149285, 124810, 34820, 23364, 80073, 237909, 120169, 61030, 216929, 161437, 173880, 251949, 22971, 174431, 141778, 288375, 169129, 37852, 269497, 63312, 283712, 193716, 88058, 126090, 68096, 117000, 31371, 172252, 213023, 41379, 74070, 163689, 206583, 74757, 655, 95514, 119912, 185534, 22584, 186018, 211259, 187078, 297062, 266748, 184634, 268419, 92547, 266106, 189754, 86101, 218499, 3480, 83160, 244325, 83141, 25127, 54985, 102932, 259074, 51140, 48352, 288976, 39578, 118140, 5207, 146514, 81225, 224540, 143375, 229627, 19505, 22421, 160678, 15095, 38284, 64478, 280875, 38995, 268242, 236246, 269822, 56497, 173519, 42073, 258316, 286583, 224383, 147407, 58828, 105416, 134050, 275956, 74735, 188226, 252348, 105242, 11416, 240290, 179803, 48678, 213599, 94348, 235675, 41455, 177582, 237687, 40014, 41521, 203908, 244219, 42578, 5343, 70061, 160872, 15050, 255414, 33459, 271943, 192256, 155403, 287024, 38386, 155449, 7985, 87312, 171611, 245122, 25860, 290907, 176988, 68193, 166600, 152677, 192506, 258850, 143836, 24837, 170856, 144582, 163480, 268911, 101565, 121028, 6278, 249497, 67970, 23297, 184221, 283508, 91153, 112724, 79731, 198084, 92913, 239471, 95773, 194736, 135099, 79744, 7904, 268538, 92812, 281911, 11688, 82010, 2363, 86499, 171358, 263642, 201680, 170665, 232694, 267005, 134465, 145687, 188391, 107289, 178772, 85449, 190796, 67316, 234328, 88512, 51960, 4469, 276036, 139165, 222803, 218754, 143939, 3064, 211854, 160776, 63642, 269028, 131936, 94610, 44416, 77105, 176679, 237575, 47318, 274662, 73725, 227546, 185806, 269876, 112706, 107132, 109914, 200929, 247823, 274140, 265464, 41553, 240235, 9445, 272740, 216499, 154786, 115861, 68114, 186155, 27401, 165555, 53251, 281117, 66984, 155499, 38893, 261657, 272415, 50264, 143806, 43330, 105386, 115635, 286939, 239022, 116408, 95858, 254537, 256065, 76676, 223389, 206713, 287484, 41601, 24684, 115500, 238587, 90114, 34875, 142695, 199582, 103810, 22911, 259843, 120845, 183222, 112222, 219430, 190167, 122644, 220037, 72177, 197391, 286862, 50730, 254414, 221956, 246754, 154425, 128778, 145205, 29703, 246999, 73006, 173443, 242259, 110503, 133102, 70956, 248661, 27201, 274804, 23271, 80471, 104978, 289168, 139075, 21852, 100667, 61181, 30478, 35566, 53108, 9110, 248179, 111791, 213911, 148645, 132480, 111826, 180102, 155965, 31704, 59224, 13053, 60756, 20841, 205250, 237019, 52854, 173302, 160687, 68872, 205277, 110077, 23287, 75501, 145339, 120366, 39113, 240847, 69650, 151633, 44582, 5450, 40197, 144537, 247939, 279698, 73690, 58581, 275602, 247676, 9231, 238719, 265850, 266868, 127975, 17096, 115177, 96083, 115246, 215975, 285996, 39716, 75272, 120792, 66252, 281258, 191963, 281849, 29443, 167041, 223036, 86237, 221624, 6336, 240532, 276114, 20429, 278003, 51895, 246759, 43502, 248611, 290441, 110220, 166933, 216279, 129732, 167486, 65049, 171493, 86890, 2539, 28723, 159341, 60172, 87286, 182067, 245164, 70486, 206404, 54014, 254060, 126270, 209483, 49559, 250784, 41030, 54477, 42105, 58019, 246685, 54828, 79288, 192157, 187981, 236704, 42876, 295957, 288262, 207158, 285173, 87509, 30982, 50198, 213625, 227005, 250837, 110872, 47848, 203856, 139090, 229532, 288690, 251931, 87012, 146591, 150260, 210868, 212830, 63479, 112386, 59389, 298279, 124934, 226976, 162544, 1390, 241561, 55221, 167627, 98410, 297961, 119675, 147470, 289721, 232052, 203021, 51669, 145547, 49495, 185269, 232751, 239938, 257063, 119216, 137396, 29560, 79647, 151713, 67907, 266913, 196235, 295373, 178602, 200969, 126413, 58198, 110657, 265969, 278364, 246117, 51900, 179521, 193721, 217517, 127087, 149841, 78589, 286126, 227802, 196739, 8871, 154101, 298582, 81148, 146397, 107087, 98058, 28716, 62262, 275384, 52652, 196664, 147480, 232651, 240486, 210415, 23648, 78418, 64797, 217052, 62951, 161078, 115777, 218102, 229403, 191935, 191133, 157561, 275794, 33237, 95175, 140729, 46200, 48213, 217697, 166530, 173476, 208528, 217520, 278440, 23721, 277182, 278687, 204571, 109801, 160590, 55743, 163318, 233858, 92316, 218458, 106659, 243082, 175389, 244078, 98044, 222794, 111703, 110781, 247157, 217429, 229047, 42107, 71045, 235547, 207778, 2918, 23411, 41460, 167658, 3122, 290424, 69985, 165362, 76442, 190014, 287960, 22092, 25554, 297732, 290982, 172913, 276899, 44029, 260126, 204915, 226576, 188752, 58001, 24419, 14561, 244601, 266036, 257762, 226411, 23038, 242664, 107186, 244183, 195984, 236569, 217472, 40504, 53893, 221644, 59951, 45204, 149602, 218474, 258189, 113083, 271281, 16441, 195040, 261684, 16199, 222829, 48160, 124712, 296147, 103648, 162092, 73561, 245751, 75414, 14152, 16953, 94815, 54560, 2107, 217166, 94784, 85609, 123635, 170058, 127138, 84831, 90926, 172680, 175822, 185132, 45097, 15386, 62566, 149066, 191677, 189972, 81799, 70186, 149266, 154068, 53107, 206406, 254091, 65519, 150031, 32692, 117420, 213093, 57825, 17449, 257974, 61114, 101292, 143421, 221532, 284009, 245750, 194681, 210501, 230150, 95264, 94006, 104350, 241787, 41246, 169636, 179376, 287450, 231988, 146955, 90209, 105254, 179351, 136753, 173312, 101720, 91615, 230852, 63788, 42191, 110731, 20983, 203758, 209825, 255399, 257266, 27491, 287318, 14462, 241975, 16814, 79535, 263904, 64443, 213667, 272656, 41273, 29344, 248846, 147073, 148040, 149364, 177234, 286802, 1821, 298022, 105792, 292485, 36909, 142997, 98517, 246620, 244067, 226809, 169708, 251255, 266382, 275640, 1111, 46273, 27547, 200661, 65538, 66622, 47096, 104098, 22116, 22396, 249400, 149546, 273684, 149017, 203819, 240335, 1814, 228000, 23540, 135861, 138016, 115326, 281808, 122048, 270091, 101375, 118226, 238285, 80892, 45380, 114061, 55314, 22873, 47348, 172021, 147300, 52860, 15461, 74151, 44527, 104430, 294959, 121280, 10305, 161264, 276667, 138142, 41281, 85337, 121072, 214899, 228485, 159312, 264318, 182099, 41223, 7956, 160919, 290233, 157266, 206797, 90821, 275216, 220181, 237010, 57080, 50545, 74018, 246477, 64138, 271646, 290895, 2655, 175619, 284763, 255246, 22726, 60084, 154866, 274074, 266000, 276694, 2056, 70060, 114615, 214552, 224867, 160600, 104478, 207322, 195602, 84441, 237135, 109465, 264320, 3239, 188846, 150086, 166931, 256723, 286155, 44362, 213386, 111151, 64643, 34832, 110443, 184630, 148093, 102807, 122891, 189328, 265590, 30359, 278107, 188724, 297231, 22786, 106401, 198809, 259043, 270354, 43022, 42170, 13952, 141430, 232488, 137088, 136704, 191304, 285448, 26712, 79708, 124804, 266702, 242490, 4149, 16336, 29222, 206499, 41545, 58334, 151109, 3772, 110433, 148343, 220777, 147684, 6721, 19097, 167179, 38816, 40135, 127399, 139261, 137700, 81846, 122847, 95089, 21916, 154904, 215312, 142777, 73113, 188513, 239015, 53692, 88619, 244974, 139264, 83541, 251039, 262288, 197783, 227932, 151219, 224236, 287626, 222716, 35402, 284941, 262081, 6446, 179647, 5977, 244151, 20547, 61990, 188126, 245938, 74064, 162627, 237517, 118206, 227746, 226454, 26778, 136510, 225445, 64401, 135444, 236419, 52949, 185092, 132301, 20942, 43393, 196452, 163030, 128412, 34753, 181388, 82120, 267836, 173413, 167036, 87725, 41767, 9071, 284445, 144630, 170835, 160450, 78552, 671, 64266, 102594, 244123, 53741, 108704, 257734, 266015, 158266, 215150, 45463, 13770, 281660, 143697, 35074, 15397, 23053, 80753, 227757, 208804, 147024, 271752, 47958, 235706, 110319, 53536, 86814, 170669, 43518, 203409, 24724, 95592, 6016, 289959, 269329, 287429, 214288, 111811, 15234, 147821, 268945, 181355, 266487, 90674, 79703, 175610, 291701, 268847, 118232, 196830, 52846, 84094, 273600, 221563, 23145, 139472, 210570, 287779, 213515, 269395, 196839, 134247, 226959, 273666, 94894, 197806, 217422, 268393, 258712, 271122, 253975, 64855, 185645, 218948, 210243, 75103, 71738, 198861, 139747, 245951, 75376, 116647, 180590, 233705, 238299, 146998, 11582, 175357, 38320, 41498, 177239, 169946, 272189, 175778, 199475, 205237, 45033, 83782, 52525, 54889, 116188, 166973, 240706, 101055, 105139, 234848, 14323, 238677, 295215, 135061, 268201, 41380, 196745, 5425, 161942, 84926, 65548, 278802, 188276, 3901, 230672, 5564, 101024, 244144, 186221, 115567, 150197, 113845, 209355, 188487, 6448, 5506, 175032, 220929, 235140, 189463, 89582, 213377, 270873, 73735, 136918, 57017, 41418, 15529, 212942, 120700, 163105, 85310, 133348, 172131, 105817, 210110, 103305, 77725, 73668, 59, 32604, 222693, 226653, 287072, 9141, 78113, 217526, 236778, 96822, 76916, 261619, 146326, 251760, 243905, 192109, 75576, 236470, 56871, 6063, 297194, 259097, 50158, 73290, 213695, 245926, 199150, 229308, 197778, 84198, 60580, 62711, 173742, 24613, 211106, 198471, 125831, 12548, 55160, 193491, 276059, 226980, 146515, 20, 97181, 119956, 202118, 273176, 170654, 93843, 70916, 54842, 98602, 206835, 258, 37470, 73017, 201378, 1505, 160827, 287270, 9062, 33356, 199974, 70377, 160865, 62999, 203005, 246904, 122758, 101018, 89009, 151514, 205628, 54192, 13720, 75794, 44460, 177671, 162385, 200034, 215207, 34001, 191305, 259380, 22555, 272608, 189678, 3595, 143639, 268515, 179730, 81001, 131740, 257922, 104105, 241425, 118574, 80079, 66159, 199467, 137055, 281857, 258523, 67752, 116623, 234839, 254834, 173343, 5054, 109154, 262742, 4570, 252625, 169774, 59947, 263820, 269343, 143628, 246047, 191894, 273785, 157197, 275919, 74994, 296524, 243416, 99276, 137458, 149173, 226052, 188265, 93182, 468, 45104, 21751, 23279, 73008, 104151, 83754, 78392, 79865, 226497, 44643, 137665, 38279, 61619, 115883, 274341, 267631, 283334, 207133, 232033, 239011, 31718, 86544, 211549, 187157, 62859, 31794, 110574, 196112, 147247, 54882, 294197, 215325, 64535, 297421, 117121, 272531, 170195, 153565, 226444, 61374, 2497, 161608, 197791, 173202, 284754, 62796, 166680, 293706, 55694, 261820, 244642, 1522, 73325, 172442, 70152, 195631, 185682, 75195, 9, 172002, 45245, 20433, 26232, 134226, 217503, 82028, 193355, 206381, 245384, 65104, 172550, 65576, 228530, 256378, 58576, 2880, 102667, 47446, 186531, 16688, 244076, 66979, 246546, 221927, 137645, 250793, 122901, 65687, 79369, 72894, 225798, 15007, 260315, 1343, 53215, 46518, 226210, 189049, 174783, 117826, 150724, 248267, 65754, 169555, 33271, 65218, 238932, 273395, 16056, 211414, 225113, 2095, 84222, 4226, 103616, 24860, 219189, 93048, 187650, 232604, 252573, 61772, 84410, 54995, 111398, 253025, 72197, 175041, 2899, 169035, 202154, 198688, 209624, 56723, 177855, 263, 110519, 153232, 235419, 255781, 236370, 109009, 15384, 41752, 172983, 5623, 184670, 189020, 268263, 134068, 162704, 219103, 263756, 18315, 258676, 117468, 271855, 81871, 2010, 163536, 116958, 88248, 247796, 187299, 139704, 176106, 66343, 154519, 118622, 40146, 184337, 256736, 197964, 14683, 237104, 248691, 200349, 205693, 104512, 228208, 74278, 127824, 36505, 116307, 77821, 246304, 267036, 264314, 2626, 25856, 74010, 90018, 180655, 212837, 206198, 129728, 272914, 217471, 204918, 21034, 185607, 117029, 259553, 55654, 6107, 221309, 195497, 6540, 74765, 51677, 246602, 199086, 43012, 70612, 45647, 65117, 291391, 206722, 221099, 69631, 42983, 46505, 14523, 45877, 96914, 234459, 176191, 245992, 23075, 215210, 63232, 72129, 273153, 25666, 264925, 82530, 30566, 228771, 289202, 94599, 265184, 57016, 107432, 45632, 116258, 249681, 249733, 94111, 262498, 85423, 266633, 164019, 223004, 67580, 46892, 77748, 37238, 30081, 147723, 198145, 283418, 216184, 121131, 87210, 41269, 269127, 218438, 293176, 160732, 232551, 34600, 280039, 184772, 256458, 221613, 172263, 35568, 119455, 232988, 1268, 77369, 109557, 275007, 166810, 80058, 267024, 52851, 193383, 183553, 282726, 61068, 197492, 186151, 23717, 74628, 238476, 74108, 132299, 43490, 10896, 71199, 166414, 146989, 290305, 222823, 94311, 207571, 5357, 52129, 282970, 199890, 73571, 196599, 145015, 56167, 9661, 168295, 55814, 271840, 138403, 209262, 117354, 291657, 240232]\n"
          ],
          "name": "stdout"
        },
        {
          "output_type": "execute_result",
          "data": {
            "text/plain": [
              "12503"
            ]
          },
          "metadata": {
            "tags": []
          },
          "execution_count": 58
        }
      ]
    },
    {
      "metadata": {
        "id": "_ljtgHiIg9nx",
        "colab_type": "code",
        "colab": {}
      },
      "cell_type": "code",
      "source": [
        "missed_indices = np.asarray(mis)"
      ],
      "execution_count": 0,
      "outputs": []
    },
    {
      "metadata": {
        "id": "uWB9KQBZhQbZ",
        "colab_type": "code",
        "colab": {}
      },
      "cell_type": "code",
      "source": [
        "missed_tweets = []\n",
        "for i in missed_indices:\n",
        "  missed_tweets.append(tweets[i])"
      ],
      "execution_count": 0,
      "outputs": []
    },
    {
      "metadata": {
        "id": "iJu7gyAHjUHO",
        "colab_type": "code",
        "colab": {
          "base_uri": "https://localhost:8080/",
          "height": 34
        },
        "outputId": "43355362-cf4d-441c-875a-ae14bf665ee9"
      },
      "cell_type": "code",
      "source": [
        "print(missed_tweets[4565])"
      ],
      "execution_count": 17,
      "outputs": [
        {
          "output_type": "stream",
          "text": [
            "Prime Minister Abe's address was a testament to the strong relationship between our two countries #AbeInTheUSA\n"
          ],
          "name": "stdout"
        }
      ]
    },
    {
      "metadata": {
        "id": "h3gENdrSjmy5",
        "colab_type": "code",
        "colab": {}
      },
      "cell_type": "code",
      "source": [
        "from google.colab import files\n",
        "with open('mislabeled2.txt', 'w') as f:\n",
        "  for i in missed_tweets:\n",
        "    f.write(i + '\\n')"
      ],
      "execution_count": 0,
      "outputs": []
    },
    {
      "metadata": {
        "id": "8yTFzUB1kNBE",
        "colab_type": "code",
        "colab": {}
      },
      "cell_type": "code",
      "source": [
        "files.download('mislabeled2.txt')"
      ],
      "execution_count": 0,
      "outputs": []
    }
  ]
}